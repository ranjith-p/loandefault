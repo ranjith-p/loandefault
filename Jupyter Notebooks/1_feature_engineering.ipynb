{
  "nbformat": 4,
  "nbformat_minor": 0,
  "metadata": {
    "accelerator": "GPU",
    "colab": {
      "name": "1_feature_engineering.ipynb",
      "provenance": [],
      "collapsed_sections": [
        "ReGpfOXG-1MA",
        "k6-xfPiL-1ME",
        "-AmvD7xu-1MF",
        "ZUkVu3Xr-1MI",
        "bP7YeVu9-1MN",
        "ZTOT9ZT8-1MV",
        "oCynovG5-1MX",
        "DFCxumCa-1Ma"
      ],
      "machine_shape": "hm"
    },
    "kernelspec": {
      "display_name": "Python 3",
      "language": "python",
      "name": "python3"
    },
    "language_info": {
      "codemirror_mode": {
        "name": "ipython",
        "version": 3
      },
      "file_extension": ".py",
      "mimetype": "text/x-python",
      "name": "python",
      "nbconvert_exporter": "python",
      "pygments_lexer": "ipython3",
      "version": "3.8.3"
    }
  },
  "cells": [
    {
      "cell_type": "markdown",
      "metadata": {
        "id": "1Kt2B2-x-1Ls"
      },
      "source": [
        "### Load libs"
      ]
    },
    {
      "cell_type": "code",
      "metadata": {
        "id": "UP7laQ0_-1Lt"
      },
      "source": [
        "import pandas as pd\n",
        "import json\n",
        "import numpy as np\n",
        "import os"
      ],
      "execution_count": null,
      "outputs": []
    },
    {
      "cell_type": "code",
      "metadata": {
        "id": "ehSJyeyY-3eH",
        "colab": {
          "base_uri": "https://localhost:8080/"
        },
        "outputId": "a8b582de-dfb5-44e6-b523-4529796ea687"
      },
      "source": [
        "from google.colab import drive\n",
        "drive.mount('/content/drive')"
      ],
      "execution_count": null,
      "outputs": [
        {
          "output_type": "stream",
          "name": "stdout",
          "text": [
            "Mounted at /content/drive\n"
          ]
        }
      ]
    },
    {
      "cell_type": "code",
      "metadata": {
        "id": "96ZWsrnQ-1Lv"
      },
      "source": [
        "n = 2000\n",
        "pd.set_option('display.max_rows', n)\n",
        "pd.set_option('display.max_columns', n)"
      ],
      "execution_count": null,
      "outputs": []
    },
    {
      "cell_type": "markdown",
      "metadata": {
        "id": "PANQouZN-1Lw"
      },
      "source": [
        "### Load data"
      ]
    },
    {
      "cell_type": "code",
      "metadata": {
        "colab": {
          "base_uri": "https://localhost:8080/"
        },
        "id": "aR2DIvP_-1Ly",
        "outputId": "bb0de389-498a-4410-e6a7-ad9e49453a56"
      },
      "source": [
        "# data\n",
        "folder = '/content/drive/MyDrive/Loan_default/'\n",
        "file = 'transactions.csv'\n",
        "path = folder + file\n",
        "data = pd.read_csv(path)\n",
        "data.shape"
      ],
      "execution_count": null,
      "outputs": [
        {
          "output_type": "execute_result",
          "data": {
            "text/plain": [
              "(152222, 709)"
            ]
          },
          "metadata": {},
          "execution_count": 4
        }
      ]
    },
    {
      "cell_type": "markdown",
      "metadata": {
        "id": "2FnPtIvK-1L2"
      },
      "source": [
        "### Adding classification target"
      ]
    },
    {
      "cell_type": "code",
      "metadata": {
        "id": "e4JNsGz1-1L4"
      },
      "source": [
        "def binary_target(init):\n",
        "    \n",
        "    \"\"\"\n",
        "    Get binary target\n",
        "    \"\"\"\n",
        "    \n",
        "    #init = str(row['target'])\n",
        "    \n",
        "    if init == 'Charged-off':\n",
        "        return 'Default'\n",
        "    else:\n",
        "        return 'Solvent'\n",
        "    "
      ],
      "execution_count": null,
      "outputs": []
    },
    {
      "cell_type": "code",
      "metadata": {
        "id": "h-mPd9E8-1L6"
      },
      "source": [
        "i_targets = data['target'].values\n",
        "data['binaryTarget'] = [binary_target(a) for a in i_targets]\n",
        "data['binaryTargetNumeric'] = (data['binaryTarget']=='Default').astype(int)"
      ],
      "execution_count": null,
      "outputs": []
    },
    {
      "cell_type": "code",
      "metadata": {
        "id": "tmiL-JOh-1MB"
      },
      "source": [
        "def get_year(init):\n",
        "    \n",
        "    \"\"\"\n",
        "    Get co year\n",
        "    \"\"\"\n",
        "    year = init[0:4]\n",
        "    \n",
        "    return year\n"
      ],
      "execution_count": null,
      "outputs": []
    },
    {
      "cell_type": "code",
      "metadata": {
        "id": "k-HDMdAR-1MB"
      },
      "source": [
        "y_vals = data['reportingPeriodBeginningDateREvent'].values\n",
        "years_vals = [get_year(a) for a in y_vals]\n",
        "data['eventYear'] = years_vals\n"
      ],
      "execution_count": null,
      "outputs": []
    },
    {
      "cell_type": "code",
      "source": [
        "#encode boolean columns to binary\n",
        "data['coObligorIndicatorLocRandom']=data['coObligorIndicatorLocRandom'].astype(int)\n",
        "data['underwritingIndicatorLocRandom']=data['underwritingIndicatorLocRandom'].astype(int)"
      ],
      "metadata": {
        "id": "DgYmghSjeD3d"
      },
      "execution_count": null,
      "outputs": []
    },
    {
      "cell_type": "markdown",
      "metadata": {
        "id": "-AmvD7xu-1MF"
      },
      "source": [
        "### Categorical encode features"
      ]
    },
    {
      "cell_type": "code",
      "metadata": {
        "id": "ZUF0XbHh-1MF"
      },
      "source": [
        "encode_features = ['vehicleModelNameLocRandom',\n",
        "                   'vehicleManufacturerNameLocRandom',\n",
        "                   'obligorGeographicLocationLocRandom',\n",
        "                   'obligorCreditScoreTypeLocRandom',\n",
        "                   'interestCalculationTypeCodeMLocRandom',\n",
        "                   'obligorEmploymentVerificationCodeMLocRandom',\n",
        "                   'vehicleTypeCodeMLocRandom',\n",
        "                   'vehicleNewUsedCodeMLocRandom',\n",
        "                   'paymentTypeCodeMLocRandom',\n",
        "                   'obligorIncomeVerificationLevelCodeMLocRandom',\n",
        "                   'vehicleValueSourceCodeMLocRandom']\n"
      ],
      "execution_count": null,
      "outputs": []
    },
    {
      "cell_type": "code",
      "metadata": {
        "id": "oucSB3_9-1MH"
      },
      "source": [
        "for col in encode_features:\n",
        "    data[col] = data[col].fillna('missing')\n",
        "    data[col] = data[col].astype(str)\n",
        "    data[col] = data[col].str.lower().str.strip().str.replace(' ', '')\n",
        "    "
      ],
      "execution_count": null,
      "outputs": []
    },
    {
      "cell_type": "code",
      "source": [
        "#encode categorical columns with two unique values into binary\n",
        "data['vehicleNewUsedCodeMLocRandom']=(data['vehicleNewUsedCodeMLocRandom']=='new').astype(int)\n",
        "data['obligorCreditScoreTypeLocRandom']=(data['obligorCreditScoreTypeLocRandom']=='creditbureauscore').astype(int)\n",
        "data['obligorEmploymentVerificationCodeMLocRandom']=(data['obligorEmploymentVerificationCodeMLocRandom']=='stated,notverified').astype(int)"
      ],
      "metadata": {
        "id": "JjOoPaEmCoKN"
      },
      "execution_count": null,
      "outputs": []
    },
    {
      "cell_type": "markdown",
      "metadata": {
        "id": "ZUkVu3Xr-1MI"
      },
      "source": [
        "### Custom fields"
      ]
    },
    {
      "cell_type": "code",
      "metadata": {
        "colab": {
          "base_uri": "https://localhost:8080/"
        },
        "id": "fZOKtCef-1MI",
        "outputId": "3d1dbef3-4c26-4ffc-930f-133254cf675c"
      },
      "source": [
        "mean_val = data[data['vehicleValueAmountLocRandom'] > 0]['vehicleValueAmountLocRandom'].mean()\n",
        "mean_val"
      ],
      "execution_count": null,
      "outputs": [
        {
          "output_type": "execute_result",
          "data": {
            "text/plain": [
              "22729.71409454701"
            ]
          },
          "metadata": {},
          "execution_count": 14
        }
      ]
    },
    {
      "cell_type": "code",
      "metadata": {
        "id": "5HKLV96y-1MJ"
      },
      "source": [
        "def fix_vehicle_value(init):\n",
        "    \n",
        "    \"\"\"\n",
        "    Fix vehicle value amount\n",
        "    \"\"\"\n",
        "    \n",
        "    if init > 0:\n",
        "        return init\n",
        "    else:\n",
        "        return mean_val\n"
      ],
      "execution_count": null,
      "outputs": []
    },
    {
      "cell_type": "code",
      "metadata": {
        "id": "d7PDYHUq-1MK"
      },
      "source": [
        "v_vals = data['vehicleValueAmountLocRandom'].values\n",
        "v_res = [fix_vehicle_value(a) for a in v_vals]\n",
        "data['vehicleValueAmountLocRandom'] = v_res\n"
      ],
      "execution_count": null,
      "outputs": []
    },
    {
      "cell_type": "code",
      "metadata": {
        "id": "PiUkLcKX-1MK"
      },
      "source": [
        "# calc ltv\n",
        "data['ltv'] = data['originalLoanAmountLocRandom'] / data['vehicleValueAmountLocRandom']"
      ],
      "execution_count": null,
      "outputs": []
    },
    {
      "cell_type": "code",
      "metadata": {
        "colab": {
          "base_uri": "https://localhost:8080/"
        },
        "id": "poQhyAWa-1ML",
        "outputId": "d85c83b7-f44a-49d8-fbec-ed266d78583d"
      },
      "source": [
        "data['ltv'].mean()"
      ],
      "execution_count": null,
      "outputs": [
        {
          "output_type": "execute_result",
          "data": {
            "text/plain": [
              "1.0664543114107385"
            ]
          },
          "metadata": {},
          "execution_count": 18
        }
      ]
    },
    {
      "cell_type": "code",
      "metadata": {
        "colab": {
          "base_uri": "https://localhost:8080/"
        },
        "id": "ZcTzkUSJ-1ML",
        "outputId": "d18e99d7-1725-43ce-d475-402cf20f9b6b"
      },
      "source": [
        "data['ltv'].max()"
      ],
      "execution_count": null,
      "outputs": [
        {
          "output_type": "execute_result",
          "data": {
            "text/plain": [
              "1.8460921933085501"
            ]
          },
          "metadata": {},
          "execution_count": 19
        }
      ]
    },
    {
      "cell_type": "code",
      "metadata": {
        "colab": {
          "base_uri": "https://localhost:8080/"
        },
        "id": "X0ywpFXZ-1MM",
        "outputId": "ef1f3671-424c-440f-b93a-be02461e246e"
      },
      "source": [
        "data['ltv'].min()"
      ],
      "execution_count": null,
      "outputs": [
        {
          "output_type": "execute_result",
          "data": {
            "text/plain": [
              "0.08928478955039394"
            ]
          },
          "metadata": {},
          "execution_count": 20
        }
      ]
    },
    {
      "cell_type": "markdown",
      "metadata": {
        "id": "oCynovG5-1MX"
      },
      "source": [
        "### Export"
      ]
    },
    {
      "cell_type": "code",
      "metadata": {
        "id": "-_adDVOv-1MX"
      },
      "source": [
        "f_1 = '/content/drive/MyDrive/Loan_default/prepared/'\n",
        "dir_bool = os.path.isdir(f_1)\n",
        "if dir_bool == False:\n",
        "    os.mkdir(f_1)"
      ],
      "execution_count": null,
      "outputs": []
    },
    {
      "cell_type": "code",
      "metadata": {
        "id": "VwT3fTzs-1MY"
      },
      "source": [
        "e_file = 'train_engineered.csv'\n",
        "e_path = f_1 + e_file\n",
        "data.to_csv(e_path, index = False)\n"
      ],
      "execution_count": null,
      "outputs": []
    },
    {
      "cell_type": "code",
      "metadata": {
        "colab": {
          "base_uri": "https://localhost:8080/"
        },
        "id": "Su55Sb_l-1MZ",
        "outputId": "c137cb89-4529-427d-8142-d70199bc7758"
      },
      "source": [
        "print('complete...')"
      ],
      "execution_count": null,
      "outputs": [
        {
          "output_type": "stream",
          "name": "stdout",
          "text": [
            "complete...\n"
          ]
        }
      ]
    },
    {
      "cell_type": "code",
      "source": [
        ""
      ],
      "metadata": {
        "id": "Zoh8NvmSeV5f"
      },
      "execution_count": null,
      "outputs": []
    }
  ]
}