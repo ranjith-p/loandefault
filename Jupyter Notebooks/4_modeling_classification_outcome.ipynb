{
  "nbformat": 4,
  "nbformat_minor": 0,
  "metadata": {
    "colab": {
      "name": "4_modeling_classification_outcome.ipynb",
      "provenance": [],
      "collapsed_sections": [
        "LXSkWKdWcM0A",
        "2QpMfJ1acM0D",
        "s-7rMUr7cM0M",
        "qAg24ZgscM0R",
        "6rFxD60ecM0W",
        "FOjZi3MVcM0Y",
        "mnsXD5oAcM0b"
      ]
    },
    "kernelspec": {
      "display_name": "Python 3",
      "language": "python",
      "name": "python3"
    },
    "language_info": {
      "codemirror_mode": {
        "name": "ipython",
        "version": 3
      },
      "file_extension": ".py",
      "mimetype": "text/x-python",
      "name": "python",
      "nbconvert_exporter": "python",
      "pygments_lexer": "ipython3",
      "version": "3.8.3"
    },
    "widgets": {
      "application/vnd.jupyter.widget-state+json": {
        "8bd9d14d22874e4696e71850d31a9db9": {
          "model_module": "catboost-widget",
          "model_name": "CatboostWidgetModel",
          "model_module_version": "^1.0.0",
          "state": {
            "_view_name": "CatboostWidgetView",
            "_dom_classes": [],
            "_model_name": "CatboostWidgetModel",
            "data": {
              "catboost_info": {
                "content": {
                  "data": {
                    "meta": {
                      "name": "experiment",
                      "parameters": "",
                      "test_metrics": [
                        {
                          "best_value": "Min",
                          "name": "CrossEntropy"
                        }
                      ],
                      "learn_sets": [
                        "learn"
                      ],
                      "launch_mode": "Train",
                      "learn_metrics": [
                        {
                          "best_value": "Min",
                          "name": "CrossEntropy"
                        }
                      ],
                      "iteration_count": 1000,
                      "test_sets": [
                        "test"
                      ]
                    },
                    "iterations": [
                      {
                        "test": [
                          0.5828530289
                        ],
                        "passed_time": 0.08170401402,
                        "iteration": 0,
                        "remaining_time": 81.62231,
                        "learn": [
                          0.5914232242
                        ]
                      },
                      {
                        "test": [
                          0.5215013429
                        ],
                        "passed_time": 0.1124476708,
                        "iteration": 1,
                        "remaining_time": 56.11138771,
                        "learn": [
                          0.5362710017
                        ]
                      },
                      {
                        "test": [
                          0.4824503753
                        ],
                        "passed_time": 0.1421831782,
                        "iteration": 2,
                        "remaining_time": 47.25220954,
                        "learn": [
                          0.5022717991
                        ]
                      },
                      {
                        "test": [
                          0.458596932
                        ],
                        "passed_time": 0.176545789,
                        "iteration": 3,
                        "remaining_time": 43.95990147,
                        "learn": [
                          0.4794439144
                        ]
                      },
                      {
                        "test": [
                          0.4418557299
                        ],
                        "passed_time": 0.2105604071,
                        "iteration": 4,
                        "remaining_time": 41.90152101,
                        "learn": [
                          0.4657464114
                        ]
                      },
                      {
                        "test": [
                          0.4322328119
                        ],
                        "passed_time": 0.2397035898,
                        "iteration": 5,
                        "remaining_time": 39.71089472,
                        "learn": [
                          0.4557322056
                        ]
                      },
                      {
                        "test": [
                          0.4243243491
                        ],
                        "passed_time": 0.2740243636,
                        "iteration": 6,
                        "remaining_time": 38.87231329,
                        "learn": [
                          0.4489738781
                        ]
                      },
                      {
                        "test": [
                          0.419301035
                        ],
                        "passed_time": 0.3076288562,
                        "iteration": 7,
                        "remaining_time": 38.14597817,
                        "learn": [
                          0.4449036636
                        ]
                      },
                      {
                        "test": [
                          0.4147769932
                        ],
                        "passed_time": 0.3387122377,
                        "iteration": 8,
                        "remaining_time": 37.29598085,
                        "learn": [
                          0.4415430977
                        ]
                      },
                      {
                        "test": [
                          0.4120884461
                        ],
                        "passed_time": 0.3699401593,
                        "iteration": 9,
                        "remaining_time": 36.62407577,
                        "learn": [
                          0.4386385529
                        ]
                      },
                      {
                        "test": [
                          0.4103172075
                        ],
                        "passed_time": 0.3978986005,
                        "iteration": 10,
                        "remaining_time": 35.77470144,
                        "learn": [
                          0.4373356509
                        ]
                      },
                      {
                        "test": [
                          0.4088117214
                        ],
                        "passed_time": 0.4264692671,
                        "iteration": 11,
                        "remaining_time": 35.11263633,
                        "learn": [
                          0.4356077715
                        ]
                      },
                      {
                        "test": [
                          0.4071391607
                        ],
                        "passed_time": 0.4546935124,
                        "iteration": 12,
                        "remaining_time": 34.52173051,
                        "learn": [
                          0.4338983789
                        ]
                      },
                      {
                        "test": [
                          0.4057818735
                        ],
                        "passed_time": 0.4915542034,
                        "iteration": 13,
                        "remaining_time": 34.61946033,
                        "learn": [
                          0.4324445129
                        ]
                      },
                      {
                        "test": [
                          0.4053639912
                        ],
                        "passed_time": 0.5272666494,
                        "iteration": 14,
                        "remaining_time": 34.62384331,
                        "learn": [
                          0.431869941
                        ]
                      },
                      {
                        "test": [
                          0.4045539263
                        ],
                        "passed_time": 0.5603644859,
                        "iteration": 15,
                        "remaining_time": 34.46241589,
                        "learn": [
                          0.4309284559
                        ]
                      },
                      {
                        "test": [
                          0.4043325135
                        ],
                        "passed_time": 0.5875774358,
                        "iteration": 16,
                        "remaining_time": 33.97580114,
                        "learn": [
                          0.4301025486
                        ]
                      },
                      {
                        "test": [
                          0.4038356014
                        ],
                        "passed_time": 0.6183069733,
                        "iteration": 17,
                        "remaining_time": 33.73208043,
                        "learn": [
                          0.4292096951
                        ]
                      },
                      {
                        "test": [
                          0.4033936683
                        ],
                        "passed_time": 0.6469400707,
                        "iteration": 18,
                        "remaining_time": 33.40253733,
                        "learn": [
                          0.4285413752
                        ]
                      },
                      {
                        "test": [
                          0.4023096487
                        ],
                        "passed_time": 0.6757298968,
                        "iteration": 19,
                        "remaining_time": 33.11076494,
                        "learn": [
                          0.4278365235
                        ]
                      },
                      {
                        "test": [
                          0.4020913646
                        ],
                        "passed_time": 0.7042672052,
                        "iteration": 20,
                        "remaining_time": 32.83226638,
                        "learn": [
                          0.4273159507
                        ]
                      },
                      {
                        "test": [
                          0.4019425753
                        ],
                        "passed_time": 0.7348297628,
                        "iteration": 21,
                        "remaining_time": 32.66652309,
                        "learn": [
                          0.426975678
                        ]
                      },
                      {
                        "test": [
                          0.4018346862
                        ],
                        "passed_time": 0.7693466422,
                        "iteration": 22,
                        "remaining_time": 32.68050737,
                        "learn": [
                          0.426570932
                        ]
                      },
                      {
                        "test": [
                          0.4015492309
                        ],
                        "passed_time": 0.7986323408,
                        "iteration": 23,
                        "remaining_time": 32.47771519,
                        "learn": [
                          0.4262140867
                        ]
                      },
                      {
                        "test": [
                          0.4016332329
                        ],
                        "passed_time": 0.8260971323,
                        "iteration": 24,
                        "remaining_time": 32.21778816,
                        "learn": [
                          0.4259327804
                        ]
                      },
                      {
                        "test": [
                          0.4015365437
                        ],
                        "passed_time": 0.8536580263,
                        "iteration": 25,
                        "remaining_time": 31.97934299,
                        "learn": [
                          0.4255510883
                        ]
                      },
                      {
                        "test": [
                          0.4017664689
                        ],
                        "passed_time": 0.8807901452,
                        "iteration": 26,
                        "remaining_time": 31.74106708,
                        "learn": [
                          0.4252330797
                        ]
                      },
                      {
                        "test": [
                          0.4016379771
                        ],
                        "passed_time": 0.9171101187,
                        "iteration": 27,
                        "remaining_time": 31.83682269,
                        "learn": [
                          0.4247903696
                        ]
                      },
                      {
                        "test": [
                          0.40141673
                        ],
                        "passed_time": 0.951651076,
                        "iteration": 28,
                        "remaining_time": 31.86390327,
                        "learn": [
                          0.4244541739
                        ]
                      },
                      {
                        "test": [
                          0.4013968446
                        ],
                        "passed_time": 0.9814789508,
                        "iteration": 29,
                        "remaining_time": 31.73448607,
                        "learn": [
                          0.4242583565
                        ]
                      },
                      {
                        "test": [
                          0.4011785916
                        ],
                        "passed_time": 1.013705646,
                        "iteration": 30,
                        "remaining_time": 31.68647648,
                        "learn": [
                          0.4239740273
                        ]
                      },
                      {
                        "test": [
                          0.4010339352
                        ],
                        "passed_time": 1.052229214,
                        "iteration": 31,
                        "remaining_time": 31.82993373,
                        "learn": [
                          0.4236803171
                        ]
                      },
                      {
                        "test": [
                          0.4008823068
                        ],
                        "passed_time": 1.084634495,
                        "iteration": 32,
                        "remaining_time": 31.78307748,
                        "learn": [
                          0.4233418602
                        ]
                      },
                      {
                        "test": [
                          0.400630772
                        ],
                        "passed_time": 1.112743004,
                        "iteration": 33,
                        "remaining_time": 31.61499242,
                        "learn": [
                          0.4230341293
                        ]
                      },
                      {
                        "test": [
                          0.4004488198
                        ],
                        "passed_time": 1.140394674,
                        "iteration": 34,
                        "remaining_time": 31.44231028,
                        "learn": [
                          0.4228087872
                        ]
                      },
                      {
                        "test": [
                          0.4002122787
                        ],
                        "passed_time": 1.177293472,
                        "iteration": 35,
                        "remaining_time": 31.52530297,
                        "learn": [
                          0.4225627077
                        ]
                      },
                      {
                        "test": [
                          0.4001182519
                        ],
                        "passed_time": 1.207367881,
                        "iteration": 36,
                        "remaining_time": 31.42419646,
                        "learn": [
                          0.4223451328
                        ]
                      },
                      {
                        "test": [
                          0.4000295147
                        ],
                        "passed_time": 1.23588176,
                        "iteration": 37,
                        "remaining_time": 31.28732245,
                        "learn": [
                          0.4220488183
                        ]
                      },
                      {
                        "test": [
                          0.3999518335
                        ],
                        "passed_time": 1.264646256,
                        "iteration": 38,
                        "remaining_time": 31.16218083,
                        "learn": [
                          0.4219025185
                        ]
                      },
                      {
                        "test": [
                          0.3998753039
                        ],
                        "passed_time": 1.295613545,
                        "iteration": 39,
                        "remaining_time": 31.09472509,
                        "learn": [
                          0.4216393941
                        ]
                      },
                      {
                        "test": [
                          0.3998741445
                        ],
                        "passed_time": 1.324845673,
                        "iteration": 40,
                        "remaining_time": 30.98846342,
                        "learn": [
                          0.4214386467
                        ]
                      },
                      {
                        "test": [
                          0.3996307935
                        ],
                        "passed_time": 1.355676448,
                        "iteration": 41,
                        "remaining_time": 30.92233423,
                        "learn": [
                          0.4211252886
                        ]
                      },
                      {
                        "test": [
                          0.3996743411
                        ],
                        "passed_time": 1.387032649,
                        "iteration": 42,
                        "remaining_time": 30.86954058,
                        "learn": [
                          0.4209949294
                        ]
                      },
                      {
                        "test": [
                          0.399447771
                        ],
                        "passed_time": 1.413529537,
                        "iteration": 43,
                        "remaining_time": 30.71214176,
                        "learn": [
                          0.4207983824
                        ]
                      },
                      {
                        "test": [
                          0.3994680075
                        ],
                        "passed_time": 1.453189773,
                        "iteration": 44,
                        "remaining_time": 30.83991629,
                        "learn": [
                          0.4206105092
                        ]
                      },
                      {
                        "test": [
                          0.3993777615
                        ],
                        "passed_time": 1.489432914,
                        "iteration": 45,
                        "remaining_time": 30.88954348,
                        "learn": [
                          0.4203689752
                        ]
                      },
                      {
                        "test": [
                          0.3992695641
                        ],
                        "passed_time": 1.516893245,
                        "iteration": 46,
                        "remaining_time": 30.75743112,
                        "learn": [
                          0.4201621126
                        ]
                      },
                      {
                        "test": [
                          0.3992601941
                        ],
                        "passed_time": 1.549729193,
                        "iteration": 47,
                        "remaining_time": 30.73629567,
                        "learn": [
                          0.4200314347
                        ]
                      },
                      {
                        "test": [
                          0.3992603225
                        ],
                        "passed_time": 1.577271962,
                        "iteration": 48,
                        "remaining_time": 30.61195175,
                        "learn": [
                          0.4199408199
                        ]
                      },
                      {
                        "test": [
                          0.3991154851
                        ],
                        "passed_time": 1.611271748,
                        "iteration": 49,
                        "remaining_time": 30.61416321,
                        "learn": [
                          0.4197085016
                        ]
                      },
                      {
                        "test": [
                          0.3992966789
                        ],
                        "passed_time": 1.636894223,
                        "iteration": 50,
                        "remaining_time": 30.45907093,
                        "learn": [
                          0.4196138869
                        ]
                      },
                      {
                        "test": [
                          0.3992594808
                        ],
                        "passed_time": 1.664874584,
                        "iteration": 51,
                        "remaining_time": 30.35194433,
                        "learn": [
                          0.4193720603
                        ]
                      },
                      {
                        "test": [
                          0.3992896569
                        ],
                        "passed_time": 1.693349444,
                        "iteration": 52,
                        "remaining_time": 30.25664006,
                        "learn": [
                          0.4192002304
                        ]
                      },
                      {
                        "test": [
                          0.399214464
                        ],
                        "passed_time": 1.722233979,
                        "iteration": 53,
                        "remaining_time": 30.17098786,
                        "learn": [
                          0.4190085474
                        ]
                      },
                      {
                        "test": [
                          0.3991658043
                        ],
                        "passed_time": 1.750742149,
                        "iteration": 54,
                        "remaining_time": 30.08093328,
                        "learn": [
                          0.4188800802
                        ]
                      },
                      {
                        "test": [
                          0.3990777831
                        ],
                        "passed_time": 1.779410423,
                        "iteration": 55,
                        "remaining_time": 29.99577571,
                        "learn": [
                          0.418701114
                        ]
                      },
                      {
                        "test": [
                          0.3989585691
                        ],
                        "passed_time": 1.808504812,
                        "iteration": 56,
                        "remaining_time": 29.91964979,
                        "learn": [
                          0.4185687272
                        ]
                      },
                      {
                        "test": [
                          0.39894539
                        ],
                        "passed_time": 1.838407569,
                        "iteration": 57,
                        "remaining_time": 29.85827466,
                        "learn": [
                          0.4184143832
                        ]
                      },
                      {
                        "test": [
                          0.3989000487
                        ],
                        "passed_time": 1.868594612,
                        "iteration": 58,
                        "remaining_time": 29.80250051,
                        "learn": [
                          0.4181090598
                        ]
                      },
                      {
                        "test": [
                          0.398891012
                        ],
                        "passed_time": 1.901192617,
                        "iteration": 59,
                        "remaining_time": 29.785351,
                        "learn": [
                          0.417881585
                        ]
                      },
                      {
                        "test": [
                          0.3988507585
                        ],
                        "passed_time": 1.933536966,
                        "iteration": 60,
                        "remaining_time": 29.76379035,
                        "learn": [
                          0.4176895064
                        ]
                      },
                      {
                        "test": [
                          0.398780366
                        ],
                        "passed_time": 1.967347608,
                        "iteration": 61,
                        "remaining_time": 29.76406543,
                        "learn": [
                          0.4174572379
                        ]
                      },
                      {
                        "test": [
                          0.3987313411
                        ],
                        "passed_time": 1.996708153,
                        "iteration": 62,
                        "remaining_time": 29.69707206,
                        "learn": [
                          0.4172589523
                        ]
                      },
                      {
                        "test": [
                          0.3987758139
                        ],
                        "passed_time": 2.038880089,
                        "iteration": 63,
                        "remaining_time": 29.81862131,
                        "learn": [
                          0.4170689665
                        ]
                      },
                      {
                        "test": [
                          0.3987601698
                        ],
                        "passed_time": 2.068477666,
                        "iteration": 64,
                        "remaining_time": 29.75425566,
                        "learn": [
                          0.4169612591
                        ]
                      },
                      {
                        "test": [
                          0.3987739383
                        ],
                        "passed_time": 2.095992737,
                        "iteration": 65,
                        "remaining_time": 29.66147297,
                        "learn": [
                          0.4168082166
                        ]
                      },
                      {
                        "test": [
                          0.398734489
                        ],
                        "passed_time": 2.125560492,
                        "iteration": 66,
                        "remaining_time": 29.59922297,
                        "learn": [
                          0.4165704322
                        ]
                      },
                      {
                        "test": [
                          0.3986404674
                        ],
                        "passed_time": 2.154698396,
                        "iteration": 67,
                        "remaining_time": 29.53204273,
                        "learn": [
                          0.4163709246
                        ]
                      },
                      {
                        "test": [
                          0.3986087115
                        ],
                        "passed_time": 2.180658005,
                        "iteration": 68,
                        "remaining_time": 29.4230812,
                        "learn": [
                          0.4162532296
                        ]
                      },
                      {
                        "test": [
                          0.3986044422
                        ],
                        "passed_time": 2.210042188,
                        "iteration": 69,
                        "remaining_time": 29.36198907,
                        "learn": [
                          0.4160818045
                        ]
                      },
                      {
                        "test": [
                          0.3986886873
                        ],
                        "passed_time": 2.24278475,
                        "iteration": 70,
                        "remaining_time": 29.34573285,
                        "learn": [
                          0.415864845
                        ]
                      },
                      {
                        "test": [
                          0.3986855176
                        ],
                        "passed_time": 2.270002939,
                        "iteration": 71,
                        "remaining_time": 29.25781566,
                        "learn": [
                          0.4157522463
                        ]
                      },
                      {
                        "test": [
                          0.3986869902
                        ],
                        "passed_time": 2.304395172,
                        "iteration": 72,
                        "remaining_time": 29.26266198,
                        "learn": [
                          0.4155307358
                        ]
                      },
                      {
                        "test": [
                          0.3987774954
                        ],
                        "passed_time": 2.332081333,
                        "iteration": 73,
                        "remaining_time": 29.18253128,
                        "learn": [
                          0.4153406477
                        ]
                      },
                      {
                        "test": [
                          0.3987740428
                        ],
                        "passed_time": 2.364954756,
                        "iteration": 74,
                        "remaining_time": 29.16777532,
                        "learn": [
                          0.4152062913
                        ]
                      },
                      {
                        "test": [
                          0.3987477875
                        ],
                        "passed_time": 2.392462425,
                        "iteration": 75,
                        "remaining_time": 29.08730633,
                        "learn": [
                          0.415050468
                        ]
                      },
                      {
                        "test": [
                          0.3988101247
                        ],
                        "passed_time": 2.420893711,
                        "iteration": 76,
                        "remaining_time": 29.01928435,
                        "learn": [
                          0.4148871808
                        ]
                      },
                      {
                        "test": [
                          0.3987658108
                        ],
                        "passed_time": 2.466001293,
                        "iteration": 77,
                        "remaining_time": 29.1493999,
                        "learn": [
                          0.4146789345
                        ]
                      },
                      {
                        "test": [
                          0.3987775192
                        ],
                        "passed_time": 2.49330338,
                        "iteration": 78,
                        "remaining_time": 29.0674989,
                        "learn": [
                          0.414533329
                        ]
                      },
                      {
                        "test": [
                          0.3986927813
                        ],
                        "passed_time": 2.520120449,
                        "iteration": 79,
                        "remaining_time": 28.98138516,
                        "learn": [
                          0.4144075419
                        ]
                      },
                      {
                        "test": [
                          0.3987003512
                        ],
                        "passed_time": 2.547988922,
                        "iteration": 80,
                        "remaining_time": 28.90866443,
                        "learn": [
                          0.4142613637
                        ]
                      },
                      {
                        "test": [
                          0.3986981148
                        ],
                        "passed_time": 2.575457529,
                        "iteration": 81,
                        "remaining_time": 28.83256112,
                        "learn": [
                          0.414134124
                        ]
                      },
                      {
                        "test": [
                          0.3986382817
                        ],
                        "passed_time": 2.602551465,
                        "iteration": 82,
                        "remaining_time": 28.75349029,
                        "learn": [
                          0.4139850213
                        ]
                      },
                      {
                        "test": [
                          0.3984851972
                        ],
                        "passed_time": 2.630667189,
                        "iteration": 83,
                        "remaining_time": 28.68679935,
                        "learn": [
                          0.4138448891
                        ]
                      },
                      {
                        "test": [
                          0.3984243446
                        ],
                        "passed_time": 2.660106841,
                        "iteration": 84,
                        "remaining_time": 28.63526776,
                        "learn": [
                          0.4136779212
                        ]
                      },
                      {
                        "test": [
                          0.3984397418
                        ],
                        "passed_time": 2.692179564,
                        "iteration": 85,
                        "remaining_time": 28.61223397,
                        "learn": [
                          0.4135497463
                        ]
                      },
                      {
                        "test": [
                          0.3986528335
                        ],
                        "passed_time": 2.721151816,
                        "iteration": 86,
                        "remaining_time": 28.55645526,
                        "learn": [
                          0.4133817965
                        ]
                      },
                      {
                        "test": [
                          0.3985820227
                        ],
                        "passed_time": 2.748540549,
                        "iteration": 87,
                        "remaining_time": 28.48487478,
                        "learn": [
                          0.4132492994
                        ]
                      },
                      {
                        "test": [
                          0.398531338
                        ],
                        "passed_time": 2.776446914,
                        "iteration": 88,
                        "remaining_time": 28.41958583,
                        "learn": [
                          0.4130778253
                        ]
                      },
                      {
                        "test": [
                          0.398526684
                        ],
                        "passed_time": 2.808634688,
                        "iteration": 89,
                        "remaining_time": 28.3984174,
                        "learn": [
                          0.4129724029
                        ]
                      },
                      {
                        "test": [
                          0.3984846158
                        ],
                        "passed_time": 2.838360816,
                        "iteration": 90,
                        "remaining_time": 28.35241738,
                        "learn": [
                          0.4128271512
                        ]
                      },
                      {
                        "test": [
                          0.3984551171
                        ],
                        "passed_time": 2.864861085,
                        "iteration": 91,
                        "remaining_time": 28.27493332,
                        "learn": [
                          0.4126783952
                        ]
                      },
                      {
                        "test": [
                          0.3984273549
                        ],
                        "passed_time": 2.895904703,
                        "iteration": 92,
                        "remaining_time": 28.24285555,
                        "learn": [
                          0.4125768742
                        ]
                      },
                      {
                        "test": [
                          0.3984655265
                        ],
                        "passed_time": 2.929200823,
                        "iteration": 93,
                        "remaining_time": 28.23251006,
                        "learn": [
                          0.4124078493
                        ]
                      },
                      {
                        "test": [
                          0.3984944761
                        ],
                        "passed_time": 2.957020439,
                        "iteration": 94,
                        "remaining_time": 28.1695105,
                        "learn": [
                          0.4122613445
                        ]
                      },
                      {
                        "test": [
                          0.3983358721
                        ],
                        "passed_time": 2.984135033,
                        "iteration": 95,
                        "remaining_time": 28.10060489,
                        "learn": [
                          0.4120853651
                        ]
                      },
                      {
                        "test": [
                          0.3983188972
                        ],
                        "passed_time": 3.013699083,
                        "iteration": 96,
                        "remaining_time": 28.05536363,
                        "learn": [
                          0.4119118549
                        ]
                      },
                      {
                        "test": [
                          0.3984881801
                        ],
                        "passed_time": 3.05409472,
                        "iteration": 97,
                        "remaining_time": 28.11013711,
                        "learn": [
                          0.4116867426
                        ]
                      },
                      {
                        "test": [
                          0.3984666016
                        ],
                        "passed_time": 3.080819279,
                        "iteration": 98,
                        "remaining_time": 28.03856738,
                        "learn": [
                          0.4115798125
                        ]
                      },
                      {
                        "test": [
                          0.3984204339
                        ],
                        "passed_time": 3.113093911,
                        "iteration": 99,
                        "remaining_time": 28.0178452,
                        "learn": [
                          0.4114231781
                        ]
                      },
                      {
                        "test": [
                          0.3984858636
                        ],
                        "passed_time": 3.141235202,
                        "iteration": 100,
                        "remaining_time": 27.96010344,
                        "learn": [
                          0.4112930498
                        ]
                      },
                      {
                        "test": [
                          0.3984847026
                        ],
                        "passed_time": 3.169436188,
                        "iteration": 101,
                        "remaining_time": 27.90346762,
                        "learn": [
                          0.4111707226
                        ]
                      },
                      {
                        "test": [
                          0.3984380383
                        ],
                        "passed_time": 3.196722667,
                        "iteration": 102,
                        "remaining_time": 27.83941973,
                        "learn": [
                          0.4110647709
                        ]
                      },
                      {
                        "test": [
                          0.3983376827
                        ],
                        "passed_time": 3.225198865,
                        "iteration": 103,
                        "remaining_time": 27.78632868,
                        "learn": [
                          0.4108943217
                        ]
                      },
                      {
                        "test": [
                          0.3983407202
                        ],
                        "passed_time": 3.252986752,
                        "iteration": 104,
                        "remaining_time": 27.72783946,
                        "learn": [
                          0.4107592383
                        ]
                      },
                      {
                        "test": [
                          0.398379282
                        ],
                        "passed_time": 3.28015569,
                        "iteration": 105,
                        "remaining_time": 27.66470931,
                        "learn": [
                          0.4106031298
                        ]
                      },
                      {
                        "test": [
                          0.3983362207
                        ],
                        "passed_time": 3.3145983,
                        "iteration": 106,
                        "remaining_time": 27.66295591,
                        "learn": [
                          0.4104897772
                        ]
                      },
                      {
                        "test": [
                          0.3982509043
                        ],
                        "passed_time": 3.344130255,
                        "iteration": 107,
                        "remaining_time": 27.62003877,
                        "learn": [
                          0.4103659723
                        ]
                      },
                      {
                        "test": [
                          0.398293523
                        ],
                        "passed_time": 3.378676069,
                        "iteration": 108,
                        "remaining_time": 27.61835208,
                        "learn": [
                          0.4102531105
                        ]
                      },
                      {
                        "test": [
                          0.3982510789
                        ],
                        "passed_time": 3.407561844,
                        "iteration": 109,
                        "remaining_time": 27.5702731,
                        "learn": [
                          0.4100455424
                        ]
                      },
                      {
                        "test": [
                          0.3982280925
                        ],
                        "passed_time": 3.433686321,
                        "iteration": 110,
                        "remaining_time": 27.50042468,
                        "learn": [
                          0.4099688277
                        ]
                      },
                      {
                        "test": [
                          0.398322151
                        ],
                        "passed_time": 3.479744723,
                        "iteration": 111,
                        "remaining_time": 27.58940459,
                        "learn": [
                          0.4098282992
                        ]
                      },
                      {
                        "test": [
                          0.3982593385
                        ],
                        "passed_time": 3.508198621,
                        "iteration": 112,
                        "remaining_time": 27.53780687,
                        "learn": [
                          0.4096801675
                        ]
                      },
                      {
                        "test": [
                          0.3983001189
                        ],
                        "passed_time": 3.546204468,
                        "iteration": 113,
                        "remaining_time": 27.56085227,
                        "learn": [
                          0.4095379401
                        ]
                      },
                      {
                        "test": [
                          0.3982469115
                        ],
                        "passed_time": 3.573848783,
                        "iteration": 114,
                        "remaining_time": 27.50309716,
                        "learn": [
                          0.4094500562
                        ]
                      },
                      {
                        "test": [
                          0.3982613471
                        ],
                        "passed_time": 3.60144681,
                        "iteration": 115,
                        "remaining_time": 27.44550845,
                        "learn": [
                          0.4093377032
                        ]
                      },
                      {
                        "test": [
                          0.3983758382
                        ],
                        "passed_time": 3.629563289,
                        "iteration": 116,
                        "remaining_time": 27.39234516,
                        "learn": [
                          0.4092076738
                        ]
                      },
                      {
                        "test": [
                          0.3982711465
                        ],
                        "passed_time": 3.657408305,
                        "iteration": 117,
                        "remaining_time": 27.33757733,
                        "learn": [
                          0.4090954343
                        ]
                      },
                      {
                        "test": [
                          0.3981896883
                        ],
                        "passed_time": 3.689449995,
                        "iteration": 118,
                        "remaining_time": 27.31433147,
                        "learn": [
                          0.4089477095
                        ]
                      },
                      {
                        "test": [
                          0.3981705409
                        ],
                        "passed_time": 3.718887491,
                        "iteration": 119,
                        "remaining_time": 27.2718416,
                        "learn": [
                          0.4088165786
                        ]
                      },
                      {
                        "test": [
                          0.3982144848
                        ],
                        "passed_time": 3.750435851,
                        "iteration": 120,
                        "remaining_time": 27.24490176,
                        "learn": [
                          0.4087053051
                        ]
                      },
                      {
                        "test": [
                          0.3981771372
                        ],
                        "passed_time": 3.786461113,
                        "iteration": 121,
                        "remaining_time": 27.25010539,
                        "learn": [
                          0.4085809888
                        ]
                      },
                      {
                        "test": [
                          0.3981488445
                        ],
                        "passed_time": 3.815349829,
                        "iteration": 122,
                        "remaining_time": 27.20375447,
                        "learn": [
                          0.4084904661
                        ]
                      },
                      {
                        "test": [
                          0.3981417177
                        ],
                        "passed_time": 3.842440651,
                        "iteration": 123,
                        "remaining_time": 27.14498395,
                        "learn": [
                          0.4083972566
                        ]
                      },
                      {
                        "test": [
                          0.3981159192
                        ],
                        "passed_time": 3.869595758,
                        "iteration": 124,
                        "remaining_time": 27.08717031,
                        "learn": [
                          0.4082501914
                        ]
                      },
                      {
                        "test": [
                          0.3980689658
                        ],
                        "passed_time": 3.898121253,
                        "iteration": 125,
                        "remaining_time": 27.03934901,
                        "learn": [
                          0.4081350511
                        ]
                      },
                      {
                        "test": [
                          0.3981000173
                        ],
                        "passed_time": 3.927017653,
                        "iteration": 126,
                        "remaining_time": 26.99438119,
                        "learn": [
                          0.4080132123
                        ]
                      },
                      {
                        "test": [
                          0.3981733053
                        ],
                        "passed_time": 3.963649876,
                        "iteration": 127,
                        "remaining_time": 27.00236478,
                        "learn": [
                          0.4078174036
                        ]
                      },
                      {
                        "test": [
                          0.3981931828
                        ],
                        "passed_time": 3.99165479,
                        "iteration": 128,
                        "remaining_time": 26.9514056,
                        "learn": [
                          0.4076997481
                        ]
                      },
                      {
                        "test": [
                          0.3981968995
                        ],
                        "passed_time": 4.019785693,
                        "iteration": 129,
                        "remaining_time": 26.90164272,
                        "learn": [
                          0.4075702286
                        ]
                      },
                      {
                        "test": [
                          0.3981513853
                        ],
                        "passed_time": 4.054782737,
                        "iteration": 130,
                        "remaining_time": 26.89775724,
                        "learn": [
                          0.4074280778
                        ]
                      },
                      {
                        "test": [
                          0.3981996655
                        ],
                        "passed_time": 4.08766595,
                        "iteration": 131,
                        "remaining_time": 26.87950034,
                        "learn": [
                          0.4072744685
                        ]
                      },
                      {
                        "test": [
                          0.3981779947
                        ],
                        "passed_time": 4.117262834,
                        "iteration": 132,
                        "remaining_time": 26.83960058,
                        "learn": [
                          0.4071791439
                        ]
                      },
                      {
                        "test": [
                          0.398227081
                        ],
                        "passed_time": 4.145129866,
                        "iteration": 133,
                        "remaining_time": 26.7886751,
                        "learn": [
                          0.4070556416
                        ]
                      },
                      {
                        "test": [
                          0.3981745331
                        ],
                        "passed_time": 4.180301486,
                        "iteration": 134,
                        "remaining_time": 26.78489471,
                        "learn": [
                          0.4069253858
                        ]
                      },
                      {
                        "test": [
                          0.398194602
                        ],
                        "passed_time": 4.207226306,
                        "iteration": 135,
                        "remaining_time": 26.72826124,
                        "learn": [
                          0.4068370586
                        ]
                      },
                      {
                        "test": [
                          0.3981531497
                        ],
                        "passed_time": 4.236235075,
                        "iteration": 136,
                        "remaining_time": 26.68518883,
                        "learn": [
                          0.4067154001
                        ]
                      },
                      {
                        "test": [
                          0.3981935233
                        ],
                        "passed_time": 4.264685188,
                        "iteration": 137,
                        "remaining_time": 26.63883067,
                        "learn": [
                          0.4066042163
                        ]
                      },
                      {
                        "test": [
                          0.3982275665
                        ],
                        "passed_time": 4.292398201,
                        "iteration": 138,
                        "remaining_time": 26.58816439,
                        "learn": [
                          0.4064727934
                        ]
                      },
                      {
                        "test": [
                          0.398227988
                        ],
                        "passed_time": 4.319587287,
                        "iteration": 139,
                        "remaining_time": 26.53460762,
                        "learn": [
                          0.4063584922
                        ]
                      },
                      {
                        "test": [
                          0.3981922613
                        ],
                        "passed_time": 4.356727322,
                        "iteration": 140,
                        "remaining_time": 26.54204801,
                        "learn": [
                          0.4062034341
                        ]
                      },
                      {
                        "test": [
                          0.3981986857
                        ],
                        "passed_time": 4.388957866,
                        "iteration": 141,
                        "remaining_time": 26.51919612,
                        "learn": [
                          0.4061057037
                        ]
                      },
                      {
                        "test": [
                          0.3982345947
                        ],
                        "passed_time": 4.416721962,
                        "iteration": 142,
                        "remaining_time": 26.46944561,
                        "learn": [
                          0.4059783294
                        ]
                      },
                      {
                        "test": [
                          0.3982429789
                        ],
                        "passed_time": 4.444820544,
                        "iteration": 143,
                        "remaining_time": 26.42198879,
                        "learn": [
                          0.4058852514
                        ]
                      },
                      {
                        "test": [
                          0.3983203441
                        ],
                        "passed_time": 4.493846376,
                        "iteration": 144,
                        "remaining_time": 26.4981976,
                        "learn": [
                          0.4057508247
                        ]
                      },
                      {
                        "test": [
                          0.3983343564
                        ],
                        "passed_time": 4.52573435,
                        "iteration": 145,
                        "remaining_time": 26.47244613,
                        "learn": [
                          0.4056369357
                        ]
                      }
                    ]
                  },
                  "total_iterations": 1000,
                  "passed_iterations": 145
                },
                "path": "catboost_info",
                "name": "catboost_info"
              }
            },
            "_view_module": "catboost-widget",
            "_model_module_version": "^1.0.0",
            "_view_count": null,
            "_view_module_version": "^1.0.0",
            "layout": "IPY_MODEL_f242ef02acb34598807dad3f1cfe9021",
            "_model_module": "catboost-widget"
          }
        }
      }
    }
  },
  "cells": [
    {
      "cell_type": "markdown",
      "metadata": {
        "id": "qTc0Evw1cMzL"
      },
      "source": [
        "### Load libs"
      ]
    },
    {
      "cell_type": "code",
      "metadata": {
        "id": "yBr9PJZ8cMzQ"
      },
      "source": [
        "# ml\n",
        "from sklearn import metrics\n",
        "from catboost import CatBoostClassifier\n",
        "from sklearn.metrics import classification_report,confusion_matrix\n",
        "from sklearn.ensemble import RandomForestClassifier\n",
        "from sklearn.metrics import roc_curve,roc_auc_score\n",
        "import pickle\n",
        "\n",
        "# standard\n",
        "import pandas as pd\n",
        "import numpy as np\n",
        "import json\n",
        "import pickle\n",
        "import os\n",
        "\n",
        "# plotting\n",
        "import matplotlib.pyplot as plt\n",
        "import warnings\n",
        "\n",
        "warnings.filterwarnings('ignore')"
      ],
      "execution_count": null,
      "outputs": []
    },
    {
      "cell_type": "code",
      "metadata": {
        "colab": {
          "base_uri": "https://localhost:8080/"
        },
        "id": "OVA0zaEFcSKp",
        "outputId": "4289ff83-25ee-4673-f045-11d274c520b6"
      },
      "source": [
        "from google.colab import drive\n",
        "drive.mount('/content/drive')"
      ],
      "execution_count": null,
      "outputs": [
        {
          "output_type": "stream",
          "name": "stdout",
          "text": [
            "Mounted at /content/drive\n"
          ]
        }
      ]
    },
    {
      "cell_type": "code",
      "metadata": {
        "id": "_I5TVq5ZcMzS"
      },
      "source": [
        "# set plot size\n",
        "plt.rcParams['figure.figsize'] = [8, 5]\n",
        "plt.rcParams['figure.dpi']\n",
        "\n",
        "n = 500\n",
        "pd.set_option('display.max_colwidth', -1)\n",
        "pd.set_option('display.max_rows', n)\n",
        "pd.set_option('display.max_columns', n)"
      ],
      "execution_count": null,
      "outputs": []
    },
    {
      "cell_type": "markdown",
      "metadata": {
        "id": "9udVUzfIcMzV"
      },
      "source": [
        "### Load data"
      ]
    },
    {
      "cell_type": "code",
      "metadata": {
        "id": "q8pehHBjcMzW"
      },
      "source": [
        "folder = '/content/drive/MyDrive/Loan_default/splits/'"
      ],
      "execution_count": null,
      "outputs": []
    },
    {
      "cell_type": "code",
      "metadata": {
        "id": "tWcZWpIpcMzW"
      },
      "source": [
        "init_train = pd.read_csv(folder + 'train_outcome.csv')\n",
        "init_val = pd.read_csv(folder + 'validation_outcome.csv')\n",
        "init_test = pd.read_csv(folder + 'test_outcome.csv')"
      ],
      "execution_count": null,
      "outputs": []
    },
    {
      "cell_type": "code",
      "metadata": {
        "colab": {
          "base_uri": "https://localhost:8080/"
        },
        "id": "Mo6lz2tpcMzY",
        "outputId": "69aaf5bd-766a-4466-8c80-d7dcd9519eb6"
      },
      "source": [
        "print(init_train.shape)\n",
        "print(init_val.shape)\n",
        "print(init_test.shape)"
      ],
      "execution_count": null,
      "outputs": [
        {
          "output_type": "stream",
          "name": "stdout",
          "text": [
            "(121318, 119)\n",
            "(14809, 119)\n",
            "(16095, 119)\n"
          ]
        }
      ]
    },
    {
      "cell_type": "markdown",
      "metadata": {
        "id": "my2sQ3umcMzi"
      },
      "source": [
        "### Setting features"
      ]
    },
    {
      "cell_type": "code",
      "metadata": {
        "id": "ljcK4TZhcMzj"
      },
      "source": [
        "features=[col for col in init_train.columns if col !=  'binaryTargetNumeric']\n",
        "target = 'binaryTargetNumeric'\n",
        "\n",
        "x_train = init_train[features]\n",
        "y_train = init_train[target]\n",
        "\n",
        "x_val = init_val[features]\n",
        "y_val = init_val[target]\n",
        "\n",
        "x_test = init_test[features]\n",
        "y_test = init_test[target]"
      ],
      "execution_count": null,
      "outputs": []
    },
    {
      "cell_type": "code",
      "source": [
        "features={}\n",
        "features['modeling']=list(x_train.columns)\n",
        "features['target']=target"
      ],
      "metadata": {
        "id": "-WYZpl82tecw"
      },
      "execution_count": null,
      "outputs": []
    },
    {
      "cell_type": "code",
      "metadata": {
        "colab": {
          "base_uri": "https://localhost:8080/",
          "height": 244
        },
        "id": "hydTbwGrcMzl",
        "outputId": "7b54f107-47be-4a5f-db37-40b3d33246cb"
      },
      "source": [
        "x_train.head()"
      ],
      "execution_count": null,
      "outputs": [
        {
          "output_type": "execute_result",
          "data": {
            "text/html": [
              "<div>\n",
              "<style scoped>\n",
              "    .dataframe tbody tr th:only-of-type {\n",
              "        vertical-align: middle;\n",
              "    }\n",
              "\n",
              "    .dataframe tbody tr th {\n",
              "        vertical-align: top;\n",
              "    }\n",
              "\n",
              "    .dataframe thead th {\n",
              "        text-align: right;\n",
              "    }\n",
              "</style>\n",
              "<table border=\"1\" class=\"dataframe\">\n",
              "  <thead>\n",
              "    <tr style=\"text-align: right;\">\n",
              "      <th></th>\n",
              "      <th>originalLoanAmount</th>\n",
              "      <th>originalLoanTerm</th>\n",
              "      <th>paymentToIncomePercentage</th>\n",
              "      <th>originalInterestRatePercentage</th>\n",
              "      <th>vehicleNewUsedCodeM</th>\n",
              "      <th>vehicleModelYear</th>\n",
              "      <th>vehicleValueAmount</th>\n",
              "      <th>coObligorIndicator</th>\n",
              "      <th>obligorCreditScore</th>\n",
              "      <th>underwritingIndicator</th>\n",
              "      <th>obligorCreditScoreType</th>\n",
              "      <th>obligorEmploymentVerificationCodeM</th>\n",
              "      <th>ltv</th>\n",
              "      <th>eventYear</th>\n",
              "      <th>vehicleManufacturerName_alfaromeo</th>\n",
              "      <th>vehicleManufacturerName_audi</th>\n",
              "      <th>vehicleManufacturerName_bentley</th>\n",
              "      <th>vehicleManufacturerName_bmw</th>\n",
              "      <th>vehicleManufacturerName_buick</th>\n",
              "      <th>vehicleManufacturerName_cadillac</th>\n",
              "      <th>vehicleManufacturerName_chevrolet</th>\n",
              "      <th>vehicleManufacturerName_chrysler</th>\n",
              "      <th>vehicleManufacturerName_dodge</th>\n",
              "      <th>vehicleManufacturerName_fiat</th>\n",
              "      <th>vehicleManufacturerName_ford</th>\n",
              "      <th>vehicleManufacturerName_genesis</th>\n",
              "      <th>vehicleManufacturerName_gmc</th>\n",
              "      <th>vehicleManufacturerName_honda</th>\n",
              "      <th>vehicleManufacturerName_hummer</th>\n",
              "      <th>vehicleManufacturerName_hyundai</th>\n",
              "      <th>vehicleManufacturerName_infiniti</th>\n",
              "      <th>vehicleManufacturerName_jaguar</th>\n",
              "      <th>vehicleManufacturerName_jeep</th>\n",
              "      <th>vehicleManufacturerName_kia</th>\n",
              "      <th>vehicleManufacturerName_landrover</th>\n",
              "      <th>vehicleManufacturerName_lexus</th>\n",
              "      <th>vehicleManufacturerName_lincoln</th>\n",
              "      <th>vehicleManufacturerName_maserati</th>\n",
              "      <th>vehicleManufacturerName_mazda</th>\n",
              "      <th>vehicleManufacturerName_mercedes-benz</th>\n",
              "      <th>vehicleManufacturerName_mercury</th>\n",
              "      <th>vehicleManufacturerName_mini</th>\n",
              "      <th>vehicleManufacturerName_mitsubishi</th>\n",
              "      <th>vehicleManufacturerName_nissan</th>\n",
              "      <th>vehicleManufacturerName_pontiac</th>\n",
              "      <th>vehicleManufacturerName_porsche</th>\n",
              "      <th>vehicleManufacturerName_ram</th>\n",
              "      <th>vehicleManufacturerName_saab</th>\n",
              "      <th>vehicleManufacturerName_saturn</th>\n",
              "      <th>vehicleManufacturerName_smart</th>\n",
              "      <th>vehicleManufacturerName_subaru</th>\n",
              "      <th>vehicleManufacturerName_suzuki</th>\n",
              "      <th>vehicleManufacturerName_tesla</th>\n",
              "      <th>vehicleManufacturerName_toyota</th>\n",
              "      <th>vehicleManufacturerName_volkswagen</th>\n",
              "      <th>vehicleManufacturerName_volvo</th>\n",
              "      <th>vehicleValueSourceCodeM_kellybluebook</th>\n",
              "      <th>vehicleValueSourceCodeM_other</th>\n",
              "      <th>obligorGeographicLocation_ak</th>\n",
              "      <th>obligorGeographicLocation_al</th>\n",
              "      <th>obligorGeographicLocation_ap</th>\n",
              "      <th>obligorGeographicLocation_ar</th>\n",
              "      <th>obligorGeographicLocation_az</th>\n",
              "      <th>obligorGeographicLocation_ca</th>\n",
              "      <th>obligorGeographicLocation_co</th>\n",
              "      <th>obligorGeographicLocation_ct</th>\n",
              "      <th>obligorGeographicLocation_dc</th>\n",
              "      <th>obligorGeographicLocation_de</th>\n",
              "      <th>obligorGeographicLocation_fl</th>\n",
              "      <th>obligorGeographicLocation_ga</th>\n",
              "      <th>obligorGeographicLocation_gu</th>\n",
              "      <th>obligorGeographicLocation_hi</th>\n",
              "      <th>obligorGeographicLocation_ia</th>\n",
              "      <th>obligorGeographicLocation_id</th>\n",
              "      <th>obligorGeographicLocation_il</th>\n",
              "      <th>obligorGeographicLocation_in</th>\n",
              "      <th>obligorGeographicLocation_ks</th>\n",
              "      <th>obligorGeographicLocation_ky</th>\n",
              "      <th>obligorGeographicLocation_la</th>\n",
              "      <th>obligorGeographicLocation_ma</th>\n",
              "      <th>obligorGeographicLocation_md</th>\n",
              "      <th>obligorGeographicLocation_me</th>\n",
              "      <th>obligorGeographicLocation_mi</th>\n",
              "      <th>obligorGeographicLocation_mn</th>\n",
              "      <th>obligorGeographicLocation_mo</th>\n",
              "      <th>obligorGeographicLocation_ms</th>\n",
              "      <th>obligorGeographicLocation_mt</th>\n",
              "      <th>obligorGeographicLocation_nc</th>\n",
              "      <th>obligorGeographicLocation_nd</th>\n",
              "      <th>obligorGeographicLocation_ne</th>\n",
              "      <th>obligorGeographicLocation_nh</th>\n",
              "      <th>obligorGeographicLocation_nj</th>\n",
              "      <th>obligorGeographicLocation_nm</th>\n",
              "      <th>obligorGeographicLocation_nv</th>\n",
              "      <th>obligorGeographicLocation_ny</th>\n",
              "      <th>obligorGeographicLocation_oh</th>\n",
              "      <th>obligorGeographicLocation_ok</th>\n",
              "      <th>obligorGeographicLocation_or</th>\n",
              "      <th>obligorGeographicLocation_pa</th>\n",
              "      <th>obligorGeographicLocation_pr</th>\n",
              "      <th>obligorGeographicLocation_ri</th>\n",
              "      <th>obligorGeographicLocation_sc</th>\n",
              "      <th>obligorGeographicLocation_sd</th>\n",
              "      <th>obligorGeographicLocation_tn</th>\n",
              "      <th>obligorGeographicLocation_tx</th>\n",
              "      <th>obligorGeographicLocation_ut</th>\n",
              "      <th>obligorGeographicLocation_va</th>\n",
              "      <th>obligorGeographicLocation_vi</th>\n",
              "      <th>obligorGeographicLocation_vt</th>\n",
              "      <th>obligorGeographicLocation_wa</th>\n",
              "      <th>obligorGeographicLocation_wi</th>\n",
              "      <th>obligorGeographicLocation_wv</th>\n",
              "      <th>obligorGeographicLocation_wy</th>\n",
              "      <th>vehicleTypeCodeM_suv</th>\n",
              "      <th>vehicleTypeCodeM_truck</th>\n",
              "      <th>vehicleTypeCodeM_unavailable</th>\n",
              "      <th>obligorIncomeVerificationLevelCodeM_stated,notverified</th>\n",
              "      <th>obligorIncomeVerificationLevelCodeM_stated,verifiedbutnottolevel4orlevel5</th>\n",
              "    </tr>\n",
              "  </thead>\n",
              "  <tbody>\n",
              "    <tr>\n",
              "      <th>0</th>\n",
              "      <td>22000.00</td>\n",
              "      <td>73.0</td>\n",
              "      <td>0.0950</td>\n",
              "      <td>0.1450</td>\n",
              "      <td>1</td>\n",
              "      <td>2018.0</td>\n",
              "      <td>25686.22</td>\n",
              "      <td>1</td>\n",
              "      <td>620.0</td>\n",
              "      <td>1</td>\n",
              "      <td>1</td>\n",
              "      <td>0</td>\n",
              "      <td>0.856490</td>\n",
              "      <td>2020</td>\n",
              "      <td>0</td>\n",
              "      <td>0</td>\n",
              "      <td>0</td>\n",
              "      <td>0</td>\n",
              "      <td>0</td>\n",
              "      <td>0</td>\n",
              "      <td>1</td>\n",
              "      <td>0</td>\n",
              "      <td>0</td>\n",
              "      <td>0</td>\n",
              "      <td>0</td>\n",
              "      <td>0</td>\n",
              "      <td>0</td>\n",
              "      <td>0</td>\n",
              "      <td>0</td>\n",
              "      <td>0</td>\n",
              "      <td>0</td>\n",
              "      <td>0</td>\n",
              "      <td>0</td>\n",
              "      <td>0</td>\n",
              "      <td>0</td>\n",
              "      <td>0</td>\n",
              "      <td>0</td>\n",
              "      <td>0</td>\n",
              "      <td>0</td>\n",
              "      <td>0</td>\n",
              "      <td>0</td>\n",
              "      <td>0</td>\n",
              "      <td>0</td>\n",
              "      <td>0</td>\n",
              "      <td>0</td>\n",
              "      <td>0</td>\n",
              "      <td>0</td>\n",
              "      <td>0</td>\n",
              "      <td>0</td>\n",
              "      <td>0</td>\n",
              "      <td>0</td>\n",
              "      <td>0</td>\n",
              "      <td>0</td>\n",
              "      <td>0</td>\n",
              "      <td>0</td>\n",
              "      <td>0</td>\n",
              "      <td>0</td>\n",
              "      <td>0</td>\n",
              "      <td>0</td>\n",
              "      <td>0</td>\n",
              "      <td>0</td>\n",
              "      <td>0</td>\n",
              "      <td>0</td>\n",
              "      <td>0</td>\n",
              "      <td>0</td>\n",
              "      <td>0</td>\n",
              "      <td>0</td>\n",
              "      <td>0</td>\n",
              "      <td>0</td>\n",
              "      <td>0</td>\n",
              "      <td>0</td>\n",
              "      <td>0</td>\n",
              "      <td>0</td>\n",
              "      <td>0</td>\n",
              "      <td>0</td>\n",
              "      <td>0</td>\n",
              "      <td>0</td>\n",
              "      <td>0</td>\n",
              "      <td>0</td>\n",
              "      <td>0</td>\n",
              "      <td>0</td>\n",
              "      <td>0</td>\n",
              "      <td>0</td>\n",
              "      <td>0</td>\n",
              "      <td>0</td>\n",
              "      <td>0</td>\n",
              "      <td>0</td>\n",
              "      <td>0</td>\n",
              "      <td>0</td>\n",
              "      <td>0</td>\n",
              "      <td>0</td>\n",
              "      <td>0</td>\n",
              "      <td>0</td>\n",
              "      <td>0</td>\n",
              "      <td>0</td>\n",
              "      <td>0</td>\n",
              "      <td>0</td>\n",
              "      <td>0</td>\n",
              "      <td>0</td>\n",
              "      <td>0</td>\n",
              "      <td>0</td>\n",
              "      <td>0</td>\n",
              "      <td>0</td>\n",
              "      <td>1</td>\n",
              "      <td>0</td>\n",
              "      <td>0</td>\n",
              "      <td>0</td>\n",
              "      <td>0</td>\n",
              "      <td>0</td>\n",
              "      <td>0</td>\n",
              "      <td>0</td>\n",
              "      <td>0</td>\n",
              "      <td>0</td>\n",
              "      <td>1</td>\n",
              "      <td>0</td>\n",
              "      <td>0</td>\n",
              "      <td>0</td>\n",
              "      <td>1</td>\n",
              "    </tr>\n",
              "    <tr>\n",
              "      <th>1</th>\n",
              "      <td>22029.74</td>\n",
              "      <td>74.0</td>\n",
              "      <td>0.0628</td>\n",
              "      <td>0.0350</td>\n",
              "      <td>1</td>\n",
              "      <td>2018.0</td>\n",
              "      <td>19814.26</td>\n",
              "      <td>0</td>\n",
              "      <td>637.0</td>\n",
              "      <td>1</td>\n",
              "      <td>1</td>\n",
              "      <td>1</td>\n",
              "      <td>1.111812</td>\n",
              "      <td>2020</td>\n",
              "      <td>0</td>\n",
              "      <td>0</td>\n",
              "      <td>0</td>\n",
              "      <td>0</td>\n",
              "      <td>0</td>\n",
              "      <td>0</td>\n",
              "      <td>1</td>\n",
              "      <td>0</td>\n",
              "      <td>0</td>\n",
              "      <td>0</td>\n",
              "      <td>0</td>\n",
              "      <td>0</td>\n",
              "      <td>0</td>\n",
              "      <td>0</td>\n",
              "      <td>0</td>\n",
              "      <td>0</td>\n",
              "      <td>0</td>\n",
              "      <td>0</td>\n",
              "      <td>0</td>\n",
              "      <td>0</td>\n",
              "      <td>0</td>\n",
              "      <td>0</td>\n",
              "      <td>0</td>\n",
              "      <td>0</td>\n",
              "      <td>0</td>\n",
              "      <td>0</td>\n",
              "      <td>0</td>\n",
              "      <td>0</td>\n",
              "      <td>0</td>\n",
              "      <td>0</td>\n",
              "      <td>0</td>\n",
              "      <td>0</td>\n",
              "      <td>0</td>\n",
              "      <td>0</td>\n",
              "      <td>0</td>\n",
              "      <td>0</td>\n",
              "      <td>0</td>\n",
              "      <td>0</td>\n",
              "      <td>0</td>\n",
              "      <td>0</td>\n",
              "      <td>0</td>\n",
              "      <td>0</td>\n",
              "      <td>0</td>\n",
              "      <td>0</td>\n",
              "      <td>0</td>\n",
              "      <td>0</td>\n",
              "      <td>0</td>\n",
              "      <td>0</td>\n",
              "      <td>0</td>\n",
              "      <td>0</td>\n",
              "      <td>0</td>\n",
              "      <td>0</td>\n",
              "      <td>0</td>\n",
              "      <td>0</td>\n",
              "      <td>0</td>\n",
              "      <td>0</td>\n",
              "      <td>0</td>\n",
              "      <td>0</td>\n",
              "      <td>0</td>\n",
              "      <td>0</td>\n",
              "      <td>0</td>\n",
              "      <td>0</td>\n",
              "      <td>0</td>\n",
              "      <td>0</td>\n",
              "      <td>0</td>\n",
              "      <td>0</td>\n",
              "      <td>1</td>\n",
              "      <td>0</td>\n",
              "      <td>0</td>\n",
              "      <td>0</td>\n",
              "      <td>0</td>\n",
              "      <td>0</td>\n",
              "      <td>0</td>\n",
              "      <td>0</td>\n",
              "      <td>0</td>\n",
              "      <td>0</td>\n",
              "      <td>0</td>\n",
              "      <td>0</td>\n",
              "      <td>0</td>\n",
              "      <td>0</td>\n",
              "      <td>0</td>\n",
              "      <td>0</td>\n",
              "      <td>0</td>\n",
              "      <td>0</td>\n",
              "      <td>0</td>\n",
              "      <td>0</td>\n",
              "      <td>0</td>\n",
              "      <td>0</td>\n",
              "      <td>0</td>\n",
              "      <td>0</td>\n",
              "      <td>0</td>\n",
              "      <td>0</td>\n",
              "      <td>0</td>\n",
              "      <td>0</td>\n",
              "      <td>0</td>\n",
              "      <td>0</td>\n",
              "      <td>0</td>\n",
              "      <td>0</td>\n",
              "      <td>0</td>\n",
              "      <td>0</td>\n",
              "      <td>0</td>\n",
              "      <td>0</td>\n",
              "      <td>1</td>\n",
              "      <td>0</td>\n",
              "    </tr>\n",
              "    <tr>\n",
              "      <th>2</th>\n",
              "      <td>15137.00</td>\n",
              "      <td>74.0</td>\n",
              "      <td>0.0814</td>\n",
              "      <td>0.1599</td>\n",
              "      <td>0</td>\n",
              "      <td>2012.0</td>\n",
              "      <td>11900.00</td>\n",
              "      <td>0</td>\n",
              "      <td>531.0</td>\n",
              "      <td>1</td>\n",
              "      <td>1</td>\n",
              "      <td>0</td>\n",
              "      <td>1.272017</td>\n",
              "      <td>2020</td>\n",
              "      <td>0</td>\n",
              "      <td>0</td>\n",
              "      <td>0</td>\n",
              "      <td>0</td>\n",
              "      <td>0</td>\n",
              "      <td>0</td>\n",
              "      <td>0</td>\n",
              "      <td>0</td>\n",
              "      <td>0</td>\n",
              "      <td>0</td>\n",
              "      <td>0</td>\n",
              "      <td>0</td>\n",
              "      <td>1</td>\n",
              "      <td>0</td>\n",
              "      <td>0</td>\n",
              "      <td>0</td>\n",
              "      <td>0</td>\n",
              "      <td>0</td>\n",
              "      <td>0</td>\n",
              "      <td>0</td>\n",
              "      <td>0</td>\n",
              "      <td>0</td>\n",
              "      <td>0</td>\n",
              "      <td>0</td>\n",
              "      <td>0</td>\n",
              "      <td>0</td>\n",
              "      <td>0</td>\n",
              "      <td>0</td>\n",
              "      <td>0</td>\n",
              "      <td>0</td>\n",
              "      <td>0</td>\n",
              "      <td>0</td>\n",
              "      <td>0</td>\n",
              "      <td>0</td>\n",
              "      <td>0</td>\n",
              "      <td>0</td>\n",
              "      <td>0</td>\n",
              "      <td>0</td>\n",
              "      <td>0</td>\n",
              "      <td>0</td>\n",
              "      <td>0</td>\n",
              "      <td>0</td>\n",
              "      <td>0</td>\n",
              "      <td>1</td>\n",
              "      <td>0</td>\n",
              "      <td>0</td>\n",
              "      <td>0</td>\n",
              "      <td>0</td>\n",
              "      <td>0</td>\n",
              "      <td>0</td>\n",
              "      <td>0</td>\n",
              "      <td>0</td>\n",
              "      <td>0</td>\n",
              "      <td>0</td>\n",
              "      <td>0</td>\n",
              "      <td>0</td>\n",
              "      <td>0</td>\n",
              "      <td>0</td>\n",
              "      <td>0</td>\n",
              "      <td>0</td>\n",
              "      <td>0</td>\n",
              "      <td>1</td>\n",
              "      <td>0</td>\n",
              "      <td>0</td>\n",
              "      <td>0</td>\n",
              "      <td>0</td>\n",
              "      <td>0</td>\n",
              "      <td>0</td>\n",
              "      <td>0</td>\n",
              "      <td>0</td>\n",
              "      <td>0</td>\n",
              "      <td>0</td>\n",
              "      <td>0</td>\n",
              "      <td>0</td>\n",
              "      <td>0</td>\n",
              "      <td>0</td>\n",
              "      <td>0</td>\n",
              "      <td>0</td>\n",
              "      <td>0</td>\n",
              "      <td>0</td>\n",
              "      <td>0</td>\n",
              "      <td>0</td>\n",
              "      <td>0</td>\n",
              "      <td>0</td>\n",
              "      <td>0</td>\n",
              "      <td>0</td>\n",
              "      <td>0</td>\n",
              "      <td>0</td>\n",
              "      <td>0</td>\n",
              "      <td>0</td>\n",
              "      <td>0</td>\n",
              "      <td>0</td>\n",
              "      <td>0</td>\n",
              "      <td>0</td>\n",
              "      <td>0</td>\n",
              "      <td>0</td>\n",
              "      <td>0</td>\n",
              "      <td>0</td>\n",
              "      <td>0</td>\n",
              "      <td>1</td>\n",
              "      <td>0</td>\n",
              "      <td>0</td>\n",
              "      <td>0</td>\n",
              "      <td>1</td>\n",
              "    </tr>\n",
              "    <tr>\n",
              "      <th>3</th>\n",
              "      <td>23185.29</td>\n",
              "      <td>73.0</td>\n",
              "      <td>0.1125</td>\n",
              "      <td>0.1325</td>\n",
              "      <td>1</td>\n",
              "      <td>2018.0</td>\n",
              "      <td>25497.51</td>\n",
              "      <td>0</td>\n",
              "      <td>603.0</td>\n",
              "      <td>1</td>\n",
              "      <td>1</td>\n",
              "      <td>0</td>\n",
              "      <td>0.909316</td>\n",
              "      <td>2019</td>\n",
              "      <td>0</td>\n",
              "      <td>0</td>\n",
              "      <td>0</td>\n",
              "      <td>0</td>\n",
              "      <td>0</td>\n",
              "      <td>0</td>\n",
              "      <td>1</td>\n",
              "      <td>0</td>\n",
              "      <td>0</td>\n",
              "      <td>0</td>\n",
              "      <td>0</td>\n",
              "      <td>0</td>\n",
              "      <td>0</td>\n",
              "      <td>0</td>\n",
              "      <td>0</td>\n",
              "      <td>0</td>\n",
              "      <td>0</td>\n",
              "      <td>0</td>\n",
              "      <td>0</td>\n",
              "      <td>0</td>\n",
              "      <td>0</td>\n",
              "      <td>0</td>\n",
              "      <td>0</td>\n",
              "      <td>0</td>\n",
              "      <td>0</td>\n",
              "      <td>0</td>\n",
              "      <td>0</td>\n",
              "      <td>0</td>\n",
              "      <td>0</td>\n",
              "      <td>0</td>\n",
              "      <td>0</td>\n",
              "      <td>0</td>\n",
              "      <td>0</td>\n",
              "      <td>0</td>\n",
              "      <td>0</td>\n",
              "      <td>0</td>\n",
              "      <td>0</td>\n",
              "      <td>0</td>\n",
              "      <td>0</td>\n",
              "      <td>0</td>\n",
              "      <td>0</td>\n",
              "      <td>0</td>\n",
              "      <td>0</td>\n",
              "      <td>0</td>\n",
              "      <td>0</td>\n",
              "      <td>0</td>\n",
              "      <td>0</td>\n",
              "      <td>0</td>\n",
              "      <td>0</td>\n",
              "      <td>0</td>\n",
              "      <td>0</td>\n",
              "      <td>0</td>\n",
              "      <td>0</td>\n",
              "      <td>0</td>\n",
              "      <td>0</td>\n",
              "      <td>0</td>\n",
              "      <td>0</td>\n",
              "      <td>0</td>\n",
              "      <td>0</td>\n",
              "      <td>0</td>\n",
              "      <td>0</td>\n",
              "      <td>0</td>\n",
              "      <td>0</td>\n",
              "      <td>0</td>\n",
              "      <td>0</td>\n",
              "      <td>0</td>\n",
              "      <td>0</td>\n",
              "      <td>0</td>\n",
              "      <td>0</td>\n",
              "      <td>0</td>\n",
              "      <td>0</td>\n",
              "      <td>0</td>\n",
              "      <td>0</td>\n",
              "      <td>0</td>\n",
              "      <td>0</td>\n",
              "      <td>0</td>\n",
              "      <td>0</td>\n",
              "      <td>0</td>\n",
              "      <td>0</td>\n",
              "      <td>0</td>\n",
              "      <td>0</td>\n",
              "      <td>1</td>\n",
              "      <td>0</td>\n",
              "      <td>0</td>\n",
              "      <td>0</td>\n",
              "      <td>0</td>\n",
              "      <td>0</td>\n",
              "      <td>0</td>\n",
              "      <td>0</td>\n",
              "      <td>0</td>\n",
              "      <td>0</td>\n",
              "      <td>0</td>\n",
              "      <td>0</td>\n",
              "      <td>0</td>\n",
              "      <td>0</td>\n",
              "      <td>0</td>\n",
              "      <td>0</td>\n",
              "      <td>0</td>\n",
              "      <td>0</td>\n",
              "      <td>0</td>\n",
              "      <td>0</td>\n",
              "      <td>0</td>\n",
              "      <td>0</td>\n",
              "      <td>1</td>\n",
              "    </tr>\n",
              "    <tr>\n",
              "      <th>4</th>\n",
              "      <td>22280.75</td>\n",
              "      <td>73.0</td>\n",
              "      <td>0.1144</td>\n",
              "      <td>0.1799</td>\n",
              "      <td>0</td>\n",
              "      <td>2017.0</td>\n",
              "      <td>17375.00</td>\n",
              "      <td>0</td>\n",
              "      <td>587.0</td>\n",
              "      <td>1</td>\n",
              "      <td>1</td>\n",
              "      <td>0</td>\n",
              "      <td>1.282345</td>\n",
              "      <td>2020</td>\n",
              "      <td>0</td>\n",
              "      <td>0</td>\n",
              "      <td>0</td>\n",
              "      <td>0</td>\n",
              "      <td>0</td>\n",
              "      <td>0</td>\n",
              "      <td>0</td>\n",
              "      <td>0</td>\n",
              "      <td>0</td>\n",
              "      <td>0</td>\n",
              "      <td>0</td>\n",
              "      <td>0</td>\n",
              "      <td>0</td>\n",
              "      <td>0</td>\n",
              "      <td>0</td>\n",
              "      <td>0</td>\n",
              "      <td>0</td>\n",
              "      <td>0</td>\n",
              "      <td>0</td>\n",
              "      <td>0</td>\n",
              "      <td>0</td>\n",
              "      <td>0</td>\n",
              "      <td>0</td>\n",
              "      <td>0</td>\n",
              "      <td>0</td>\n",
              "      <td>0</td>\n",
              "      <td>0</td>\n",
              "      <td>0</td>\n",
              "      <td>0</td>\n",
              "      <td>1</td>\n",
              "      <td>0</td>\n",
              "      <td>0</td>\n",
              "      <td>0</td>\n",
              "      <td>0</td>\n",
              "      <td>0</td>\n",
              "      <td>0</td>\n",
              "      <td>0</td>\n",
              "      <td>0</td>\n",
              "      <td>0</td>\n",
              "      <td>0</td>\n",
              "      <td>0</td>\n",
              "      <td>0</td>\n",
              "      <td>0</td>\n",
              "      <td>1</td>\n",
              "      <td>0</td>\n",
              "      <td>0</td>\n",
              "      <td>0</td>\n",
              "      <td>0</td>\n",
              "      <td>0</td>\n",
              "      <td>0</td>\n",
              "      <td>0</td>\n",
              "      <td>0</td>\n",
              "      <td>0</td>\n",
              "      <td>0</td>\n",
              "      <td>0</td>\n",
              "      <td>0</td>\n",
              "      <td>0</td>\n",
              "      <td>0</td>\n",
              "      <td>0</td>\n",
              "      <td>0</td>\n",
              "      <td>0</td>\n",
              "      <td>0</td>\n",
              "      <td>0</td>\n",
              "      <td>0</td>\n",
              "      <td>0</td>\n",
              "      <td>0</td>\n",
              "      <td>0</td>\n",
              "      <td>0</td>\n",
              "      <td>0</td>\n",
              "      <td>0</td>\n",
              "      <td>0</td>\n",
              "      <td>0</td>\n",
              "      <td>0</td>\n",
              "      <td>0</td>\n",
              "      <td>0</td>\n",
              "      <td>0</td>\n",
              "      <td>0</td>\n",
              "      <td>0</td>\n",
              "      <td>0</td>\n",
              "      <td>0</td>\n",
              "      <td>1</td>\n",
              "      <td>0</td>\n",
              "      <td>0</td>\n",
              "      <td>0</td>\n",
              "      <td>0</td>\n",
              "      <td>0</td>\n",
              "      <td>0</td>\n",
              "      <td>0</td>\n",
              "      <td>0</td>\n",
              "      <td>0</td>\n",
              "      <td>0</td>\n",
              "      <td>0</td>\n",
              "      <td>0</td>\n",
              "      <td>0</td>\n",
              "      <td>0</td>\n",
              "      <td>0</td>\n",
              "      <td>0</td>\n",
              "      <td>0</td>\n",
              "      <td>0</td>\n",
              "      <td>0</td>\n",
              "      <td>0</td>\n",
              "      <td>0</td>\n",
              "      <td>0</td>\n",
              "      <td>1</td>\n",
              "    </tr>\n",
              "  </tbody>\n",
              "</table>\n",
              "</div>"
            ],
            "text/plain": [
              "   originalLoanAmount  originalLoanTerm  paymentToIncomePercentage  \\\n",
              "0  22000.00            73.0              0.0950                      \n",
              "1  22029.74            74.0              0.0628                      \n",
              "2  15137.00            74.0              0.0814                      \n",
              "3  23185.29            73.0              0.1125                      \n",
              "4  22280.75            73.0              0.1144                      \n",
              "\n",
              "   originalInterestRatePercentage  vehicleNewUsedCodeM  vehicleModelYear  \\\n",
              "0  0.1450                          1                    2018.0             \n",
              "1  0.0350                          1                    2018.0             \n",
              "2  0.1599                          0                    2012.0             \n",
              "3  0.1325                          1                    2018.0             \n",
              "4  0.1799                          0                    2017.0             \n",
              "\n",
              "   vehicleValueAmount  coObligorIndicator  obligorCreditScore  \\\n",
              "0  25686.22            1                   620.0                \n",
              "1  19814.26            0                   637.0                \n",
              "2  11900.00            0                   531.0                \n",
              "3  25497.51            0                   603.0                \n",
              "4  17375.00            0                   587.0                \n",
              "\n",
              "   underwritingIndicator  obligorCreditScoreType  \\\n",
              "0  1                      1                        \n",
              "1  1                      1                        \n",
              "2  1                      1                        \n",
              "3  1                      1                        \n",
              "4  1                      1                        \n",
              "\n",
              "   obligorEmploymentVerificationCodeM       ltv  eventYear  \\\n",
              "0  0                                   0.856490  2020        \n",
              "1  1                                   1.111812  2020        \n",
              "2  0                                   1.272017  2020        \n",
              "3  0                                   0.909316  2019        \n",
              "4  0                                   1.282345  2020        \n",
              "\n",
              "   vehicleManufacturerName_alfaromeo  vehicleManufacturerName_audi  \\\n",
              "0  0                                  0                              \n",
              "1  0                                  0                              \n",
              "2  0                                  0                              \n",
              "3  0                                  0                              \n",
              "4  0                                  0                              \n",
              "\n",
              "   vehicleManufacturerName_bentley  vehicleManufacturerName_bmw  \\\n",
              "0  0                                0                             \n",
              "1  0                                0                             \n",
              "2  0                                0                             \n",
              "3  0                                0                             \n",
              "4  0                                0                             \n",
              "\n",
              "   vehicleManufacturerName_buick  vehicleManufacturerName_cadillac  \\\n",
              "0  0                              0                                  \n",
              "1  0                              0                                  \n",
              "2  0                              0                                  \n",
              "3  0                              0                                  \n",
              "4  0                              0                                  \n",
              "\n",
              "   vehicleManufacturerName_chevrolet  vehicleManufacturerName_chrysler  \\\n",
              "0  1                                  0                                  \n",
              "1  1                                  0                                  \n",
              "2  0                                  0                                  \n",
              "3  1                                  0                                  \n",
              "4  0                                  0                                  \n",
              "\n",
              "   vehicleManufacturerName_dodge  vehicleManufacturerName_fiat  \\\n",
              "0  0                              0                              \n",
              "1  0                              0                              \n",
              "2  0                              0                              \n",
              "3  0                              0                              \n",
              "4  0                              0                              \n",
              "\n",
              "   vehicleManufacturerName_ford  vehicleManufacturerName_genesis  \\\n",
              "0  0                             0                                 \n",
              "1  0                             0                                 \n",
              "2  0                             0                                 \n",
              "3  0                             0                                 \n",
              "4  0                             0                                 \n",
              "\n",
              "   vehicleManufacturerName_gmc  vehicleManufacturerName_honda  \\\n",
              "0  0                            0                               \n",
              "1  0                            0                               \n",
              "2  1                            0                               \n",
              "3  0                            0                               \n",
              "4  0                            0                               \n",
              "\n",
              "   vehicleManufacturerName_hummer  vehicleManufacturerName_hyundai  \\\n",
              "0  0                               0                                 \n",
              "1  0                               0                                 \n",
              "2  0                               0                                 \n",
              "3  0                               0                                 \n",
              "4  0                               0                                 \n",
              "\n",
              "   vehicleManufacturerName_infiniti  vehicleManufacturerName_jaguar  \\\n",
              "0  0                                 0                                \n",
              "1  0                                 0                                \n",
              "2  0                                 0                                \n",
              "3  0                                 0                                \n",
              "4  0                                 0                                \n",
              "\n",
              "   vehicleManufacturerName_jeep  vehicleManufacturerName_kia  \\\n",
              "0  0                             0                             \n",
              "1  0                             0                             \n",
              "2  0                             0                             \n",
              "3  0                             0                             \n",
              "4  0                             0                             \n",
              "\n",
              "   vehicleManufacturerName_landrover  vehicleManufacturerName_lexus  \\\n",
              "0  0                                  0                               \n",
              "1  0                                  0                               \n",
              "2  0                                  0                               \n",
              "3  0                                  0                               \n",
              "4  0                                  0                               \n",
              "\n",
              "   vehicleManufacturerName_lincoln  vehicleManufacturerName_maserati  \\\n",
              "0  0                                0                                  \n",
              "1  0                                0                                  \n",
              "2  0                                0                                  \n",
              "3  0                                0                                  \n",
              "4  0                                0                                  \n",
              "\n",
              "   vehicleManufacturerName_mazda  vehicleManufacturerName_mercedes-benz  \\\n",
              "0  0                              0                                       \n",
              "1  0                              0                                       \n",
              "2  0                              0                                       \n",
              "3  0                              0                                       \n",
              "4  0                              0                                       \n",
              "\n",
              "   vehicleManufacturerName_mercury  vehicleManufacturerName_mini  \\\n",
              "0  0                                0                              \n",
              "1  0                                0                              \n",
              "2  0                                0                              \n",
              "3  0                                0                              \n",
              "4  0                                0                              \n",
              "\n",
              "   vehicleManufacturerName_mitsubishi  vehicleManufacturerName_nissan  \\\n",
              "0  0                                   0                                \n",
              "1  0                                   0                                \n",
              "2  0                                   0                                \n",
              "3  0                                   0                                \n",
              "4  0                                   1                                \n",
              "\n",
              "   vehicleManufacturerName_pontiac  vehicleManufacturerName_porsche  \\\n",
              "0  0                                0                                 \n",
              "1  0                                0                                 \n",
              "2  0                                0                                 \n",
              "3  0                                0                                 \n",
              "4  0                                0                                 \n",
              "\n",
              "   vehicleManufacturerName_ram  vehicleManufacturerName_saab  \\\n",
              "0  0                            0                              \n",
              "1  0                            0                              \n",
              "2  0                            0                              \n",
              "3  0                            0                              \n",
              "4  0                            0                              \n",
              "\n",
              "   vehicleManufacturerName_saturn  vehicleManufacturerName_smart  \\\n",
              "0  0                               0                               \n",
              "1  0                               0                               \n",
              "2  0                               0                               \n",
              "3  0                               0                               \n",
              "4  0                               0                               \n",
              "\n",
              "   vehicleManufacturerName_subaru  vehicleManufacturerName_suzuki  \\\n",
              "0  0                               0                                \n",
              "1  0                               0                                \n",
              "2  0                               0                                \n",
              "3  0                               0                                \n",
              "4  0                               0                                \n",
              "\n",
              "   vehicleManufacturerName_tesla  vehicleManufacturerName_toyota  \\\n",
              "0  0                              0                                \n",
              "1  0                              0                                \n",
              "2  0                              0                                \n",
              "3  0                              0                                \n",
              "4  0                              0                                \n",
              "\n",
              "   vehicleManufacturerName_volkswagen  vehicleManufacturerName_volvo  \\\n",
              "0  0                                   0                               \n",
              "1  0                                   0                               \n",
              "2  0                                   0                               \n",
              "3  0                                   0                               \n",
              "4  0                                   0                               \n",
              "\n",
              "   vehicleValueSourceCodeM_kellybluebook  vehicleValueSourceCodeM_other  \\\n",
              "0  0                                      0                               \n",
              "1  0                                      0                               \n",
              "2  0                                      1                               \n",
              "3  0                                      0                               \n",
              "4  0                                      1                               \n",
              "\n",
              "   obligorGeographicLocation_ak  obligorGeographicLocation_al  \\\n",
              "0  0                             0                              \n",
              "1  0                             0                              \n",
              "2  0                             0                              \n",
              "3  0                             0                              \n",
              "4  0                             0                              \n",
              "\n",
              "   obligorGeographicLocation_ap  obligorGeographicLocation_ar  \\\n",
              "0  0                             0                              \n",
              "1  0                             0                              \n",
              "2  0                             0                              \n",
              "3  0                             0                              \n",
              "4  0                             0                              \n",
              "\n",
              "   obligorGeographicLocation_az  obligorGeographicLocation_ca  \\\n",
              "0  0                             0                              \n",
              "1  0                             0                              \n",
              "2  0                             0                              \n",
              "3  0                             0                              \n",
              "4  0                             0                              \n",
              "\n",
              "   obligorGeographicLocation_co  obligorGeographicLocation_ct  \\\n",
              "0  0                             0                              \n",
              "1  0                             0                              \n",
              "2  0                             0                              \n",
              "3  0                             0                              \n",
              "4  0                             0                              \n",
              "\n",
              "   obligorGeographicLocation_dc  obligorGeographicLocation_de  \\\n",
              "0  0                             0                              \n",
              "1  0                             0                              \n",
              "2  0                             0                              \n",
              "3  0                             0                              \n",
              "4  0                             0                              \n",
              "\n",
              "   obligorGeographicLocation_fl  obligorGeographicLocation_ga  \\\n",
              "0  0                             0                              \n",
              "1  0                             0                              \n",
              "2  0                             0                              \n",
              "3  0                             0                              \n",
              "4  0                             0                              \n",
              "\n",
              "   obligorGeographicLocation_gu  obligorGeographicLocation_hi  \\\n",
              "0  0                             0                              \n",
              "1  0                             0                              \n",
              "2  0                             0                              \n",
              "3  0                             0                              \n",
              "4  0                             0                              \n",
              "\n",
              "   obligorGeographicLocation_ia  obligorGeographicLocation_id  \\\n",
              "0  0                             0                              \n",
              "1  0                             0                              \n",
              "2  0                             0                              \n",
              "3  0                             0                              \n",
              "4  0                             0                              \n",
              "\n",
              "   obligorGeographicLocation_il  obligorGeographicLocation_in  \\\n",
              "0  0                             0                              \n",
              "1  0                             0                              \n",
              "2  0                             1                              \n",
              "3  0                             0                              \n",
              "4  0                             0                              \n",
              "\n",
              "   obligorGeographicLocation_ks  obligorGeographicLocation_ky  \\\n",
              "0  0                             0                              \n",
              "1  0                             0                              \n",
              "2  0                             0                              \n",
              "3  0                             0                              \n",
              "4  0                             0                              \n",
              "\n",
              "   obligorGeographicLocation_la  obligorGeographicLocation_ma  \\\n",
              "0  0                             0                              \n",
              "1  0                             0                              \n",
              "2  0                             0                              \n",
              "3  0                             0                              \n",
              "4  0                             0                              \n",
              "\n",
              "   obligorGeographicLocation_md  obligorGeographicLocation_me  \\\n",
              "0  0                             0                              \n",
              "1  1                             0                              \n",
              "2  0                             0                              \n",
              "3  0                             0                              \n",
              "4  0                             0                              \n",
              "\n",
              "   obligorGeographicLocation_mi  obligorGeographicLocation_mn  \\\n",
              "0  0                             0                              \n",
              "1  0                             0                              \n",
              "2  0                             0                              \n",
              "3  0                             0                              \n",
              "4  0                             0                              \n",
              "\n",
              "   obligorGeographicLocation_mo  obligorGeographicLocation_ms  \\\n",
              "0  0                             0                              \n",
              "1  0                             0                              \n",
              "2  0                             0                              \n",
              "3  0                             0                              \n",
              "4  0                             0                              \n",
              "\n",
              "   obligorGeographicLocation_mt  obligorGeographicLocation_nc  \\\n",
              "0  0                             0                              \n",
              "1  0                             0                              \n",
              "2  0                             0                              \n",
              "3  0                             0                              \n",
              "4  0                             0                              \n",
              "\n",
              "   obligorGeographicLocation_nd  obligorGeographicLocation_ne  \\\n",
              "0  0                             0                              \n",
              "1  0                             0                              \n",
              "2  0                             0                              \n",
              "3  0                             0                              \n",
              "4  0                             0                              \n",
              "\n",
              "   obligorGeographicLocation_nh  obligorGeographicLocation_nj  \\\n",
              "0  0                             0                              \n",
              "1  0                             0                              \n",
              "2  0                             0                              \n",
              "3  0                             0                              \n",
              "4  0                             0                              \n",
              "\n",
              "   obligorGeographicLocation_nm  obligorGeographicLocation_nv  \\\n",
              "0  0                             0                              \n",
              "1  0                             0                              \n",
              "2  0                             0                              \n",
              "3  0                             0                              \n",
              "4  0                             0                              \n",
              "\n",
              "   obligorGeographicLocation_ny  obligorGeographicLocation_oh  \\\n",
              "0  0                             0                              \n",
              "1  0                             0                              \n",
              "2  0                             0                              \n",
              "3  0                             1                              \n",
              "4  1                             0                              \n",
              "\n",
              "   obligorGeographicLocation_ok  obligorGeographicLocation_or  \\\n",
              "0  0                             0                              \n",
              "1  0                             0                              \n",
              "2  0                             0                              \n",
              "3  0                             0                              \n",
              "4  0                             0                              \n",
              "\n",
              "   obligorGeographicLocation_pa  obligorGeographicLocation_pr  \\\n",
              "0  0                             0                              \n",
              "1  0                             0                              \n",
              "2  0                             0                              \n",
              "3  0                             0                              \n",
              "4  0                             0                              \n",
              "\n",
              "   obligorGeographicLocation_ri  obligorGeographicLocation_sc  \\\n",
              "0  0                             0                              \n",
              "1  0                             0                              \n",
              "2  0                             0                              \n",
              "3  0                             0                              \n",
              "4  0                             0                              \n",
              "\n",
              "   obligorGeographicLocation_sd  obligorGeographicLocation_tn  \\\n",
              "0  0                             1                              \n",
              "1  0                             0                              \n",
              "2  0                             0                              \n",
              "3  0                             0                              \n",
              "4  0                             0                              \n",
              "\n",
              "   obligorGeographicLocation_tx  obligorGeographicLocation_ut  \\\n",
              "0  0                             0                              \n",
              "1  0                             0                              \n",
              "2  0                             0                              \n",
              "3  0                             0                              \n",
              "4  0                             0                              \n",
              "\n",
              "   obligorGeographicLocation_va  obligorGeographicLocation_vi  \\\n",
              "0  0                             0                              \n",
              "1  0                             0                              \n",
              "2  0                             0                              \n",
              "3  0                             0                              \n",
              "4  0                             0                              \n",
              "\n",
              "   obligorGeographicLocation_vt  obligorGeographicLocation_wa  \\\n",
              "0  0                             0                              \n",
              "1  0                             0                              \n",
              "2  0                             0                              \n",
              "3  0                             0                              \n",
              "4  0                             0                              \n",
              "\n",
              "   obligorGeographicLocation_wi  obligorGeographicLocation_wv  \\\n",
              "0  0                             0                              \n",
              "1  0                             0                              \n",
              "2  0                             0                              \n",
              "3  0                             0                              \n",
              "4  0                             0                              \n",
              "\n",
              "   obligorGeographicLocation_wy  vehicleTypeCodeM_suv  vehicleTypeCodeM_truck  \\\n",
              "0  0                             1                     0                        \n",
              "1  0                             0                     0                        \n",
              "2  0                             1                     0                        \n",
              "3  0                             0                     0                        \n",
              "4  0                             0                     0                        \n",
              "\n",
              "   vehicleTypeCodeM_unavailable  \\\n",
              "0  0                              \n",
              "1  0                              \n",
              "2  0                              \n",
              "3  0                              \n",
              "4  0                              \n",
              "\n",
              "   obligorIncomeVerificationLevelCodeM_stated,notverified  \\\n",
              "0  0                                                        \n",
              "1  1                                                        \n",
              "2  0                                                        \n",
              "3  0                                                        \n",
              "4  0                                                        \n",
              "\n",
              "   obligorIncomeVerificationLevelCodeM_stated,verifiedbutnottolevel4orlevel5  \n",
              "0  1                                                                          \n",
              "1  0                                                                          \n",
              "2  1                                                                          \n",
              "3  1                                                                          \n",
              "4  1                                                                          "
            ]
          },
          "metadata": {},
          "execution_count": 9
        }
      ]
    },
    {
      "cell_type": "markdown",
      "metadata": {
        "id": "pBQgYAlScMzm"
      },
      "source": [
        "### Model training"
      ]
    },
    {
      "cell_type": "markdown",
      "source": [
        "#### XGBoost"
      ],
      "metadata": {
        "id": "9nSRvv7UYsbk"
      }
    },
    {
      "cell_type": "code",
      "metadata": {
        "id": "kw9pjtWumCCw"
      },
      "source": [
        "import xgboost as xgb\n",
        "from xgboost.sklearn import XGBClassifier"
      ],
      "execution_count": null,
      "outputs": []
    },
    {
      "cell_type": "code",
      "metadata": {
        "id": "6g9-ayUXlis3"
      },
      "source": [
        "train=x_train.copy()\n",
        "train['binaryTargetNumeric']=y_train\n",
        "target = 'binaryTargetNumeric'"
      ],
      "execution_count": null,
      "outputs": []
    },
    {
      "cell_type": "code",
      "metadata": {
        "id": "9P7ICawhlSut"
      },
      "source": [
        "def modelfit(alg, dtrain, predictors,useTrainCV=True, cv_folds=5, early_stopping_rounds=50):\n",
        "    \n",
        "    if useTrainCV:\n",
        "        xgb_param = alg.get_xgb_params()\n",
        "        xgtrain = xgb.DMatrix(dtrain[predictors].values, label=dtrain[target].values)\n",
        "        cvresult = xgb.cv(xgb_param, xgtrain, num_boost_round=alg.get_params()['n_estimators'], nfold=cv_folds,\n",
        "            metrics='auc', early_stopping_rounds=early_stopping_rounds)\n",
        "        alg.set_params(n_estimators=cvresult.shape[0])\n",
        "    \n",
        "    #Fit the algorithm on the data\n",
        "    alg.fit(dtrain[predictors], dtrain['binaryTargetNumeric'],eval_metric='auc')\n",
        "        \n",
        "    #Predict training set:\n",
        "    dtrain_predictions = alg.predict(dtrain[predictors])\n",
        "    dtrain_predprob = alg.predict_proba(dtrain[predictors])[:,1]\n",
        "        \n",
        "    #Print model report:\n",
        "    print(\"\\nModel Report\")\n",
        "    print(\"Accuracy : %.4g\" % metrics.accuracy_score(dtrain['binaryTargetNumeric'].values, dtrain_predictions))\n",
        "    print(\"AUC Score (Train): %f\" % metrics.roc_auc_score(dtrain['binaryTargetNumeric'], dtrain_predprob))"
      ],
      "execution_count": null,
      "outputs": []
    },
    {
      "cell_type": "code",
      "metadata": {
        "colab": {
          "base_uri": "https://localhost:8080/"
        },
        "id": "pJJtpKZVlhYH",
        "outputId": "94efb4d8-0939-4dab-8ff7-e19f11fccf70"
      },
      "source": [
        "#Choose all predictors except target & IDcols\n",
        "predictors = [x for x in init_train.columns if x not in [target]]\n",
        "xgb1 = XGBClassifier(\n",
        " learning_rate =0.1,\n",
        " n_estimators=1000,\n",
        " max_depth=5,\n",
        " min_child_weight=1,\n",
        " gamma=0,\n",
        " subsample=0.8,\n",
        " colsample_bytree=0.8,\n",
        " objective= 'binary:logistic',\n",
        " nthread=4,\n",
        " scale_pos_weight=1,\n",
        " seed=27)\n",
        "modelfit(xgb1, init_train, predictors)"
      ],
      "execution_count": null,
      "outputs": [
        {
          "output_type": "stream",
          "name": "stdout",
          "text": [
            "\n",
            "Model Report\n",
            "Accuracy : 0.8166\n",
            "AUC Score (Train): 0.815497\n"
          ]
        }
      ]
    },
    {
      "cell_type": "code",
      "source": [
        "y_pred_xb=xgb1.predict(x_test)"
      ],
      "metadata": {
        "id": "FRwPeMy1gEcW"
      },
      "execution_count": null,
      "outputs": []
    },
    {
      "cell_type": "code",
      "source": [
        "print(classification_report(y_test,y_pred_xb))"
      ],
      "metadata": {
        "colab": {
          "base_uri": "https://localhost:8080/"
        },
        "outputId": "0183fffb-231b-4725-f081-f93700f1a806",
        "id": "Z2T6lCJKgeCK"
      },
      "execution_count": null,
      "outputs": [
        {
          "output_type": "stream",
          "name": "stdout",
          "text": [
            "              precision    recall  f1-score   support\n",
            "\n",
            "           0       0.88      0.97      0.92     13979\n",
            "           1       0.38      0.11      0.16      2116\n",
            "\n",
            "    accuracy                           0.86     16095\n",
            "   macro avg       0.63      0.54      0.54     16095\n",
            "weighted avg       0.81      0.86      0.82     16095\n",
            "\n"
          ]
        }
      ]
    },
    {
      "cell_type": "markdown",
      "source": [
        "#### Random Forest"
      ],
      "metadata": {
        "id": "n7xqdVOmYwDJ"
      }
    },
    {
      "cell_type": "code",
      "metadata": {
        "colab": {
          "base_uri": "https://localhost:8080/"
        },
        "id": "vh2q44c7cDlp",
        "outputId": "1bb0bd4f-d5a8-4cef-e66c-242d06aff9bd"
      },
      "source": [
        "rf=RandomForestClassifier(n_estimators=250,n_jobs=-1,random_state=12002)\n",
        "\n",
        "rf=rf.fit(x_train,y_train)"
      ],
      "execution_count": null,
      "outputs": [
        {
          "output_type": "execute_result",
          "data": {
            "text/plain": [
              "RandomForestClassifier(n_estimators=250, n_jobs=-1, random_state=12002)"
            ]
          },
          "metadata": {},
          "execution_count": 17
        }
      ]
    },
    {
      "cell_type": "code",
      "metadata": {
        "id": "iq9QqRYxhtMK"
      },
      "source": [
        "rf_y_pred=rf.predict(x_test)"
      ],
      "execution_count": null,
      "outputs": []
    },
    {
      "cell_type": "code",
      "metadata": {
        "colab": {
          "base_uri": "https://localhost:8080/"
        },
        "id": "CgCm6txBiDtG",
        "outputId": "04355bff-201f-43d7-a55d-aee5bb746430"
      },
      "source": [
        "print(classification_report(y_test,rf_y_pred))"
      ],
      "execution_count": null,
      "outputs": [
        {
          "output_type": "stream",
          "name": "stdout",
          "text": [
            "              precision    recall  f1-score   support\n",
            "\n",
            "           0       0.88      0.97      0.92     13979\n",
            "           1       0.38      0.10      0.16      2116\n",
            "\n",
            "    accuracy                           0.86     16095\n",
            "   macro avg       0.63      0.54      0.54     16095\n",
            "weighted avg       0.81      0.86      0.82     16095\n",
            "\n"
          ]
        }
      ]
    },
    {
      "cell_type": "markdown",
      "source": [
        "#### Catboost"
      ],
      "metadata": {
        "id": "QpHI4hfXYzWc"
      }
    },
    {
      "cell_type": "code",
      "metadata": {
        "id": "xfQRr6uzcMzn"
      },
      "source": [
        "iterations = 500\n",
        "depth = 6\n",
        "loss_function = 'CrossEntropy'\n",
        "#fold_count = 5\n",
        "add_plot = 'True'\n",
        "early_stopping = 20\n",
        "learning_rate = .2"
      ],
      "execution_count": null,
      "outputs": []
    },
    {
      "cell_type": "code",
      "metadata": {
        "id": "FaJtNizjcMzn"
      },
      "source": [
        "cat = CatBoostClassifier(loss_function = loss_function,\n",
        "                           early_stopping_rounds = early_stopping,\n",
        "                           use_best_model = True,\n",
        "                           depth = depth,\n",
        "                           learning_rate = learning_rate)\n"
      ],
      "execution_count": null,
      "outputs": []
    },
    {
      "cell_type": "code",
      "metadata": {
        "colab": {
          "base_uri": "https://localhost:8080/",
          "height": 1000,
          "referenced_widgets": [
            "8bd9d14d22874e4696e71850d31a9db9"
          ]
        },
        "id": "CrLbz_6-cMzo",
        "outputId": "5c6ee50b-d5a4-414a-d972-3058edf7ed57"
      },
      "source": [
        "cat.fit(x_train, y_train, plot = True, eval_set=(x_val, y_val))\n"
      ],
      "execution_count": null,
      "outputs": [
        {
          "output_type": "display_data",
          "data": {
            "application/vnd.jupyter.widget-view+json": {
              "model_id": "8bd9d14d22874e4696e71850d31a9db9",
              "version_minor": 0,
              "version_major": 2
            },
            "text/plain": [
              "MetricVisualizer(layout=Layout(align_self='stretch', height='500px'))"
            ]
          },
          "metadata": {}
        },
        {
          "output_type": "stream",
          "name": "stdout",
          "text": [
            "0:\tlearn: 0.5914232\ttest: 0.5828530\tbest: 0.5828530 (0)\ttotal: 81.7ms\tremaining: 1m 21s\n",
            "1:\tlearn: 0.5362710\ttest: 0.5215013\tbest: 0.5215013 (1)\ttotal: 112ms\tremaining: 56.1s\n",
            "2:\tlearn: 0.5022718\ttest: 0.4824504\tbest: 0.4824504 (2)\ttotal: 142ms\tremaining: 47.3s\n",
            "3:\tlearn: 0.4794439\ttest: 0.4585969\tbest: 0.4585969 (3)\ttotal: 177ms\tremaining: 44s\n",
            "4:\tlearn: 0.4657464\ttest: 0.4418557\tbest: 0.4418557 (4)\ttotal: 211ms\tremaining: 41.9s\n",
            "5:\tlearn: 0.4557322\ttest: 0.4322328\tbest: 0.4322328 (5)\ttotal: 240ms\tremaining: 39.7s\n",
            "6:\tlearn: 0.4489739\ttest: 0.4243243\tbest: 0.4243243 (6)\ttotal: 274ms\tremaining: 38.9s\n",
            "7:\tlearn: 0.4449037\ttest: 0.4193010\tbest: 0.4193010 (7)\ttotal: 308ms\tremaining: 38.1s\n",
            "8:\tlearn: 0.4415431\ttest: 0.4147770\tbest: 0.4147770 (8)\ttotal: 339ms\tremaining: 37.3s\n",
            "9:\tlearn: 0.4386386\ttest: 0.4120884\tbest: 0.4120884 (9)\ttotal: 370ms\tremaining: 36.6s\n",
            "10:\tlearn: 0.4373357\ttest: 0.4103172\tbest: 0.4103172 (10)\ttotal: 398ms\tremaining: 35.8s\n",
            "11:\tlearn: 0.4356078\ttest: 0.4088117\tbest: 0.4088117 (11)\ttotal: 426ms\tremaining: 35.1s\n",
            "12:\tlearn: 0.4338984\ttest: 0.4071392\tbest: 0.4071392 (12)\ttotal: 455ms\tremaining: 34.5s\n",
            "13:\tlearn: 0.4324445\ttest: 0.4057819\tbest: 0.4057819 (13)\ttotal: 492ms\tremaining: 34.6s\n",
            "14:\tlearn: 0.4318699\ttest: 0.4053640\tbest: 0.4053640 (14)\ttotal: 527ms\tremaining: 34.6s\n",
            "15:\tlearn: 0.4309285\ttest: 0.4045539\tbest: 0.4045539 (15)\ttotal: 560ms\tremaining: 34.5s\n",
            "16:\tlearn: 0.4301025\ttest: 0.4043325\tbest: 0.4043325 (16)\ttotal: 588ms\tremaining: 34s\n",
            "17:\tlearn: 0.4292097\ttest: 0.4038356\tbest: 0.4038356 (17)\ttotal: 618ms\tremaining: 33.7s\n",
            "18:\tlearn: 0.4285414\ttest: 0.4033937\tbest: 0.4033937 (18)\ttotal: 647ms\tremaining: 33.4s\n",
            "19:\tlearn: 0.4278365\ttest: 0.4023096\tbest: 0.4023096 (19)\ttotal: 676ms\tremaining: 33.1s\n",
            "20:\tlearn: 0.4273160\ttest: 0.4020914\tbest: 0.4020914 (20)\ttotal: 704ms\tremaining: 32.8s\n",
            "21:\tlearn: 0.4269757\ttest: 0.4019426\tbest: 0.4019426 (21)\ttotal: 735ms\tremaining: 32.7s\n",
            "22:\tlearn: 0.4265709\ttest: 0.4018347\tbest: 0.4018347 (22)\ttotal: 769ms\tremaining: 32.7s\n",
            "23:\tlearn: 0.4262141\ttest: 0.4015492\tbest: 0.4015492 (23)\ttotal: 799ms\tremaining: 32.5s\n",
            "24:\tlearn: 0.4259328\ttest: 0.4016332\tbest: 0.4015492 (23)\ttotal: 826ms\tremaining: 32.2s\n",
            "25:\tlearn: 0.4255511\ttest: 0.4015365\tbest: 0.4015365 (25)\ttotal: 854ms\tremaining: 32s\n",
            "26:\tlearn: 0.4252331\ttest: 0.4017665\tbest: 0.4015365 (25)\ttotal: 881ms\tremaining: 31.7s\n",
            "27:\tlearn: 0.4247904\ttest: 0.4016380\tbest: 0.4015365 (25)\ttotal: 917ms\tremaining: 31.8s\n",
            "28:\tlearn: 0.4244542\ttest: 0.4014167\tbest: 0.4014167 (28)\ttotal: 952ms\tremaining: 31.9s\n",
            "29:\tlearn: 0.4242584\ttest: 0.4013968\tbest: 0.4013968 (29)\ttotal: 981ms\tremaining: 31.7s\n",
            "30:\tlearn: 0.4239740\ttest: 0.4011786\tbest: 0.4011786 (30)\ttotal: 1.01s\tremaining: 31.7s\n",
            "31:\tlearn: 0.4236803\ttest: 0.4010339\tbest: 0.4010339 (31)\ttotal: 1.05s\tremaining: 31.8s\n",
            "32:\tlearn: 0.4233419\ttest: 0.4008823\tbest: 0.4008823 (32)\ttotal: 1.08s\tremaining: 31.8s\n",
            "33:\tlearn: 0.4230341\ttest: 0.4006308\tbest: 0.4006308 (33)\ttotal: 1.11s\tremaining: 31.6s\n",
            "34:\tlearn: 0.4228088\ttest: 0.4004488\tbest: 0.4004488 (34)\ttotal: 1.14s\tremaining: 31.4s\n",
            "35:\tlearn: 0.4225627\ttest: 0.4002123\tbest: 0.4002123 (35)\ttotal: 1.18s\tremaining: 31.5s\n",
            "36:\tlearn: 0.4223451\ttest: 0.4001183\tbest: 0.4001183 (36)\ttotal: 1.21s\tremaining: 31.4s\n",
            "37:\tlearn: 0.4220488\ttest: 0.4000295\tbest: 0.4000295 (37)\ttotal: 1.24s\tremaining: 31.3s\n",
            "38:\tlearn: 0.4219025\ttest: 0.3999518\tbest: 0.3999518 (38)\ttotal: 1.26s\tremaining: 31.2s\n",
            "39:\tlearn: 0.4216394\ttest: 0.3998753\tbest: 0.3998753 (39)\ttotal: 1.29s\tremaining: 31.1s\n",
            "40:\tlearn: 0.4214386\ttest: 0.3998741\tbest: 0.3998741 (40)\ttotal: 1.32s\tremaining: 31s\n",
            "41:\tlearn: 0.4211253\ttest: 0.3996308\tbest: 0.3996308 (41)\ttotal: 1.35s\tremaining: 30.9s\n",
            "42:\tlearn: 0.4209949\ttest: 0.3996743\tbest: 0.3996308 (41)\ttotal: 1.39s\tremaining: 30.9s\n",
            "43:\tlearn: 0.4207984\ttest: 0.3994478\tbest: 0.3994478 (43)\ttotal: 1.41s\tremaining: 30.7s\n",
            "44:\tlearn: 0.4206105\ttest: 0.3994680\tbest: 0.3994478 (43)\ttotal: 1.45s\tremaining: 30.8s\n",
            "45:\tlearn: 0.4203690\ttest: 0.3993778\tbest: 0.3993778 (45)\ttotal: 1.49s\tremaining: 30.9s\n",
            "46:\tlearn: 0.4201621\ttest: 0.3992696\tbest: 0.3992696 (46)\ttotal: 1.52s\tremaining: 30.8s\n",
            "47:\tlearn: 0.4200314\ttest: 0.3992602\tbest: 0.3992602 (47)\ttotal: 1.55s\tremaining: 30.7s\n",
            "48:\tlearn: 0.4199408\ttest: 0.3992603\tbest: 0.3992602 (47)\ttotal: 1.58s\tremaining: 30.6s\n",
            "49:\tlearn: 0.4197085\ttest: 0.3991155\tbest: 0.3991155 (49)\ttotal: 1.61s\tremaining: 30.6s\n",
            "50:\tlearn: 0.4196139\ttest: 0.3992967\tbest: 0.3991155 (49)\ttotal: 1.64s\tremaining: 30.5s\n",
            "51:\tlearn: 0.4193721\ttest: 0.3992595\tbest: 0.3991155 (49)\ttotal: 1.66s\tremaining: 30.4s\n",
            "52:\tlearn: 0.4192002\ttest: 0.3992897\tbest: 0.3991155 (49)\ttotal: 1.69s\tremaining: 30.3s\n",
            "53:\tlearn: 0.4190085\ttest: 0.3992145\tbest: 0.3991155 (49)\ttotal: 1.72s\tremaining: 30.2s\n",
            "54:\tlearn: 0.4188801\ttest: 0.3991658\tbest: 0.3991155 (49)\ttotal: 1.75s\tremaining: 30.1s\n",
            "55:\tlearn: 0.4187011\ttest: 0.3990778\tbest: 0.3990778 (55)\ttotal: 1.78s\tremaining: 30s\n",
            "56:\tlearn: 0.4185687\ttest: 0.3989586\tbest: 0.3989586 (56)\ttotal: 1.81s\tremaining: 29.9s\n",
            "57:\tlearn: 0.4184144\ttest: 0.3989454\tbest: 0.3989454 (57)\ttotal: 1.84s\tremaining: 29.9s\n",
            "58:\tlearn: 0.4181091\ttest: 0.3989000\tbest: 0.3989000 (58)\ttotal: 1.87s\tremaining: 29.8s\n",
            "59:\tlearn: 0.4178816\ttest: 0.3988910\tbest: 0.3988910 (59)\ttotal: 1.9s\tremaining: 29.8s\n",
            "60:\tlearn: 0.4176895\ttest: 0.3988508\tbest: 0.3988508 (60)\ttotal: 1.93s\tremaining: 29.8s\n",
            "61:\tlearn: 0.4174572\ttest: 0.3987804\tbest: 0.3987804 (61)\ttotal: 1.97s\tremaining: 29.8s\n",
            "62:\tlearn: 0.4172590\ttest: 0.3987313\tbest: 0.3987313 (62)\ttotal: 2s\tremaining: 29.7s\n",
            "63:\tlearn: 0.4170690\ttest: 0.3987758\tbest: 0.3987313 (62)\ttotal: 2.04s\tremaining: 29.8s\n",
            "64:\tlearn: 0.4169613\ttest: 0.3987602\tbest: 0.3987313 (62)\ttotal: 2.07s\tremaining: 29.8s\n",
            "65:\tlearn: 0.4168082\ttest: 0.3987739\tbest: 0.3987313 (62)\ttotal: 2.1s\tremaining: 29.7s\n",
            "66:\tlearn: 0.4165704\ttest: 0.3987345\tbest: 0.3987313 (62)\ttotal: 2.13s\tremaining: 29.6s\n",
            "67:\tlearn: 0.4163709\ttest: 0.3986405\tbest: 0.3986405 (67)\ttotal: 2.15s\tremaining: 29.5s\n",
            "68:\tlearn: 0.4162532\ttest: 0.3986087\tbest: 0.3986087 (68)\ttotal: 2.18s\tremaining: 29.4s\n",
            "69:\tlearn: 0.4160818\ttest: 0.3986044\tbest: 0.3986044 (69)\ttotal: 2.21s\tremaining: 29.4s\n",
            "70:\tlearn: 0.4158648\ttest: 0.3986887\tbest: 0.3986044 (69)\ttotal: 2.24s\tremaining: 29.3s\n",
            "71:\tlearn: 0.4157522\ttest: 0.3986855\tbest: 0.3986044 (69)\ttotal: 2.27s\tremaining: 29.3s\n",
            "72:\tlearn: 0.4155307\ttest: 0.3986870\tbest: 0.3986044 (69)\ttotal: 2.3s\tremaining: 29.3s\n",
            "73:\tlearn: 0.4153406\ttest: 0.3987775\tbest: 0.3986044 (69)\ttotal: 2.33s\tremaining: 29.2s\n",
            "74:\tlearn: 0.4152063\ttest: 0.3987740\tbest: 0.3986044 (69)\ttotal: 2.36s\tremaining: 29.2s\n",
            "75:\tlearn: 0.4150505\ttest: 0.3987478\tbest: 0.3986044 (69)\ttotal: 2.39s\tremaining: 29.1s\n",
            "76:\tlearn: 0.4148872\ttest: 0.3988101\tbest: 0.3986044 (69)\ttotal: 2.42s\tremaining: 29s\n",
            "77:\tlearn: 0.4146789\ttest: 0.3987658\tbest: 0.3986044 (69)\ttotal: 2.47s\tremaining: 29.1s\n",
            "78:\tlearn: 0.4145333\ttest: 0.3987775\tbest: 0.3986044 (69)\ttotal: 2.49s\tremaining: 29.1s\n",
            "79:\tlearn: 0.4144075\ttest: 0.3986928\tbest: 0.3986044 (69)\ttotal: 2.52s\tremaining: 29s\n",
            "80:\tlearn: 0.4142614\ttest: 0.3987004\tbest: 0.3986044 (69)\ttotal: 2.55s\tremaining: 28.9s\n",
            "81:\tlearn: 0.4141341\ttest: 0.3986981\tbest: 0.3986044 (69)\ttotal: 2.58s\tremaining: 28.8s\n",
            "82:\tlearn: 0.4139850\ttest: 0.3986383\tbest: 0.3986044 (69)\ttotal: 2.6s\tremaining: 28.8s\n",
            "83:\tlearn: 0.4138449\ttest: 0.3984852\tbest: 0.3984852 (83)\ttotal: 2.63s\tremaining: 28.7s\n",
            "84:\tlearn: 0.4136779\ttest: 0.3984243\tbest: 0.3984243 (84)\ttotal: 2.66s\tremaining: 28.6s\n",
            "85:\tlearn: 0.4135497\ttest: 0.3984397\tbest: 0.3984243 (84)\ttotal: 2.69s\tremaining: 28.6s\n",
            "86:\tlearn: 0.4133818\ttest: 0.3986528\tbest: 0.3984243 (84)\ttotal: 2.72s\tremaining: 28.6s\n",
            "87:\tlearn: 0.4132493\ttest: 0.3985820\tbest: 0.3984243 (84)\ttotal: 2.75s\tremaining: 28.5s\n",
            "88:\tlearn: 0.4130778\ttest: 0.3985313\tbest: 0.3984243 (84)\ttotal: 2.78s\tremaining: 28.4s\n",
            "89:\tlearn: 0.4129724\ttest: 0.3985267\tbest: 0.3984243 (84)\ttotal: 2.81s\tremaining: 28.4s\n",
            "90:\tlearn: 0.4128272\ttest: 0.3984846\tbest: 0.3984243 (84)\ttotal: 2.84s\tremaining: 28.4s\n",
            "91:\tlearn: 0.4126784\ttest: 0.3984551\tbest: 0.3984243 (84)\ttotal: 2.86s\tremaining: 28.3s\n",
            "92:\tlearn: 0.4125769\ttest: 0.3984274\tbest: 0.3984243 (84)\ttotal: 2.9s\tremaining: 28.2s\n",
            "93:\tlearn: 0.4124078\ttest: 0.3984655\tbest: 0.3984243 (84)\ttotal: 2.93s\tremaining: 28.2s\n",
            "94:\tlearn: 0.4122613\ttest: 0.3984945\tbest: 0.3984243 (84)\ttotal: 2.96s\tremaining: 28.2s\n",
            "95:\tlearn: 0.4120854\ttest: 0.3983359\tbest: 0.3983359 (95)\ttotal: 2.98s\tremaining: 28.1s\n",
            "96:\tlearn: 0.4119119\ttest: 0.3983189\tbest: 0.3983189 (96)\ttotal: 3.01s\tremaining: 28.1s\n",
            "97:\tlearn: 0.4116867\ttest: 0.3984882\tbest: 0.3983189 (96)\ttotal: 3.05s\tremaining: 28.1s\n",
            "98:\tlearn: 0.4115798\ttest: 0.3984666\tbest: 0.3983189 (96)\ttotal: 3.08s\tremaining: 28s\n",
            "99:\tlearn: 0.4114232\ttest: 0.3984204\tbest: 0.3983189 (96)\ttotal: 3.11s\tremaining: 28s\n",
            "100:\tlearn: 0.4112930\ttest: 0.3984859\tbest: 0.3983189 (96)\ttotal: 3.14s\tremaining: 28s\n",
            "101:\tlearn: 0.4111707\ttest: 0.3984847\tbest: 0.3983189 (96)\ttotal: 3.17s\tremaining: 27.9s\n",
            "102:\tlearn: 0.4110648\ttest: 0.3984380\tbest: 0.3983189 (96)\ttotal: 3.2s\tremaining: 27.8s\n",
            "103:\tlearn: 0.4108943\ttest: 0.3983377\tbest: 0.3983189 (96)\ttotal: 3.23s\tremaining: 27.8s\n",
            "104:\tlearn: 0.4107592\ttest: 0.3983407\tbest: 0.3983189 (96)\ttotal: 3.25s\tremaining: 27.7s\n",
            "105:\tlearn: 0.4106031\ttest: 0.3983793\tbest: 0.3983189 (96)\ttotal: 3.28s\tremaining: 27.7s\n",
            "106:\tlearn: 0.4104898\ttest: 0.3983362\tbest: 0.3983189 (96)\ttotal: 3.31s\tremaining: 27.7s\n",
            "107:\tlearn: 0.4103660\ttest: 0.3982509\tbest: 0.3982509 (107)\ttotal: 3.34s\tremaining: 27.6s\n",
            "108:\tlearn: 0.4102531\ttest: 0.3982935\tbest: 0.3982509 (107)\ttotal: 3.38s\tremaining: 27.6s\n",
            "109:\tlearn: 0.4100455\ttest: 0.3982511\tbest: 0.3982509 (107)\ttotal: 3.41s\tremaining: 27.6s\n",
            "110:\tlearn: 0.4099688\ttest: 0.3982281\tbest: 0.3982281 (110)\ttotal: 3.43s\tremaining: 27.5s\n",
            "111:\tlearn: 0.4098283\ttest: 0.3983222\tbest: 0.3982281 (110)\ttotal: 3.48s\tremaining: 27.6s\n",
            "112:\tlearn: 0.4096802\ttest: 0.3982593\tbest: 0.3982281 (110)\ttotal: 3.51s\tremaining: 27.5s\n",
            "113:\tlearn: 0.4095379\ttest: 0.3983001\tbest: 0.3982281 (110)\ttotal: 3.55s\tremaining: 27.6s\n",
            "114:\tlearn: 0.4094501\ttest: 0.3982469\tbest: 0.3982281 (110)\ttotal: 3.57s\tremaining: 27.5s\n",
            "115:\tlearn: 0.4093377\ttest: 0.3982613\tbest: 0.3982281 (110)\ttotal: 3.6s\tremaining: 27.4s\n",
            "116:\tlearn: 0.4092077\ttest: 0.3983758\tbest: 0.3982281 (110)\ttotal: 3.63s\tremaining: 27.4s\n",
            "117:\tlearn: 0.4090954\ttest: 0.3982711\tbest: 0.3982281 (110)\ttotal: 3.66s\tremaining: 27.3s\n",
            "118:\tlearn: 0.4089477\ttest: 0.3981897\tbest: 0.3981897 (118)\ttotal: 3.69s\tremaining: 27.3s\n",
            "119:\tlearn: 0.4088166\ttest: 0.3981705\tbest: 0.3981705 (119)\ttotal: 3.72s\tremaining: 27.3s\n",
            "120:\tlearn: 0.4087053\ttest: 0.3982145\tbest: 0.3981705 (119)\ttotal: 3.75s\tremaining: 27.2s\n",
            "121:\tlearn: 0.4085810\ttest: 0.3981771\tbest: 0.3981705 (119)\ttotal: 3.79s\tremaining: 27.3s\n",
            "122:\tlearn: 0.4084905\ttest: 0.3981488\tbest: 0.3981488 (122)\ttotal: 3.81s\tremaining: 27.2s\n",
            "123:\tlearn: 0.4083973\ttest: 0.3981417\tbest: 0.3981417 (123)\ttotal: 3.84s\tremaining: 27.1s\n",
            "124:\tlearn: 0.4082502\ttest: 0.3981159\tbest: 0.3981159 (124)\ttotal: 3.87s\tremaining: 27.1s\n",
            "125:\tlearn: 0.4081351\ttest: 0.3980690\tbest: 0.3980690 (125)\ttotal: 3.9s\tremaining: 27s\n",
            "126:\tlearn: 0.4080132\ttest: 0.3981000\tbest: 0.3980690 (125)\ttotal: 3.93s\tremaining: 27s\n",
            "127:\tlearn: 0.4078174\ttest: 0.3981733\tbest: 0.3980690 (125)\ttotal: 3.96s\tremaining: 27s\n",
            "128:\tlearn: 0.4076997\ttest: 0.3981932\tbest: 0.3980690 (125)\ttotal: 3.99s\tremaining: 27s\n",
            "129:\tlearn: 0.4075702\ttest: 0.3981969\tbest: 0.3980690 (125)\ttotal: 4.02s\tremaining: 26.9s\n",
            "130:\tlearn: 0.4074281\ttest: 0.3981514\tbest: 0.3980690 (125)\ttotal: 4.05s\tremaining: 26.9s\n",
            "131:\tlearn: 0.4072745\ttest: 0.3981997\tbest: 0.3980690 (125)\ttotal: 4.09s\tremaining: 26.9s\n",
            "132:\tlearn: 0.4071791\ttest: 0.3981780\tbest: 0.3980690 (125)\ttotal: 4.12s\tremaining: 26.8s\n",
            "133:\tlearn: 0.4070556\ttest: 0.3982271\tbest: 0.3980690 (125)\ttotal: 4.14s\tremaining: 26.8s\n",
            "134:\tlearn: 0.4069254\ttest: 0.3981745\tbest: 0.3980690 (125)\ttotal: 4.18s\tremaining: 26.8s\n",
            "135:\tlearn: 0.4068371\ttest: 0.3981946\tbest: 0.3980690 (125)\ttotal: 4.21s\tremaining: 26.7s\n",
            "136:\tlearn: 0.4067154\ttest: 0.3981531\tbest: 0.3980690 (125)\ttotal: 4.24s\tremaining: 26.7s\n",
            "137:\tlearn: 0.4066042\ttest: 0.3981935\tbest: 0.3980690 (125)\ttotal: 4.26s\tremaining: 26.6s\n",
            "138:\tlearn: 0.4064728\ttest: 0.3982276\tbest: 0.3980690 (125)\ttotal: 4.29s\tremaining: 26.6s\n",
            "139:\tlearn: 0.4063585\ttest: 0.3982280\tbest: 0.3980690 (125)\ttotal: 4.32s\tremaining: 26.5s\n",
            "140:\tlearn: 0.4062034\ttest: 0.3981923\tbest: 0.3980690 (125)\ttotal: 4.36s\tremaining: 26.5s\n",
            "141:\tlearn: 0.4061057\ttest: 0.3981987\tbest: 0.3980690 (125)\ttotal: 4.39s\tremaining: 26.5s\n",
            "142:\tlearn: 0.4059783\ttest: 0.3982346\tbest: 0.3980690 (125)\ttotal: 4.42s\tremaining: 26.5s\n",
            "143:\tlearn: 0.4058853\ttest: 0.3982430\tbest: 0.3980690 (125)\ttotal: 4.44s\tremaining: 26.4s\n",
            "144:\tlearn: 0.4057508\ttest: 0.3983203\tbest: 0.3980690 (125)\ttotal: 4.49s\tremaining: 26.5s\n",
            "145:\tlearn: 0.4056369\ttest: 0.3983344\tbest: 0.3980690 (125)\ttotal: 4.53s\tremaining: 26.5s\n",
            "Stopped by overfitting detector  (20 iterations wait)\n",
            "\n",
            "bestTest = 0.3980689658\n",
            "bestIteration = 125\n",
            "\n",
            "Shrink model to first 126 iterations.\n"
          ]
        },
        {
          "output_type": "execute_result",
          "data": {
            "text/plain": [
              "<catboost.core.CatBoostClassifier at 0x7f3470ffd150>"
            ]
          },
          "metadata": {},
          "execution_count": 12
        }
      ]
    },
    {
      "cell_type": "code",
      "metadata": {
        "id": "Co6lL6KjcMzq"
      },
      "source": [
        "#model.get_all_params()"
      ],
      "execution_count": null,
      "outputs": []
    },
    {
      "cell_type": "code",
      "metadata": {
        "id": "5XEjN8Q8cMzq"
      },
      "source": [
        "y_pred = cat.predict(x_test)\n",
        "scores = cat.predict_proba(x_test)"
      ],
      "execution_count": null,
      "outputs": []
    },
    {
      "cell_type": "code",
      "source": [
        "print(classification_report(y_test,y_pred))"
      ],
      "metadata": {
        "colab": {
          "base_uri": "https://localhost:8080/"
        },
        "id": "7S94Sgu4NKcM",
        "outputId": "27c04a98-9369-44b6-c1ba-231e35f87cd2"
      },
      "execution_count": null,
      "outputs": [
        {
          "output_type": "stream",
          "name": "stdout",
          "text": [
            "              precision    recall  f1-score   support\n",
            "\n",
            "           0       0.88      0.97      0.92     13979\n",
            "           1       0.38      0.11      0.17      2116\n",
            "\n",
            "    accuracy                           0.86     16095\n",
            "   macro avg       0.63      0.54      0.54     16095\n",
            "weighted avg       0.81      0.86      0.82     16095\n",
            "\n"
          ]
        }
      ]
    },
    {
      "cell_type": "code",
      "source": [
        "pred_prob1 = cat.predict_proba(x_test)\n",
        "pred_prob2 = rf.predict_proba(x_test)\n",
        "pred_prob3 = xgb1.predict_proba(x_test)"
      ],
      "metadata": {
        "id": "SyfzDLF-zMA8"
      },
      "execution_count": null,
      "outputs": []
    },
    {
      "cell_type": "code",
      "metadata": {
        "id": "0SRFeA8ccMzs"
      },
      "source": [
        "# roc curve for models\n",
        "fpr1, tpr1, thresh1 = roc_curve(y_test, pred_prob1[:,1], pos_label=1)\n",
        "fpr2, tpr2, thresh2 = roc_curve(y_test, pred_prob2[:,1], pos_label=1)\n",
        "fpr3, tpr3, thresh3 = roc_curve(y_test, pred_prob3[:,1], pos_label=1)\n",
        "\n",
        "# roc curve for tpr = fpr \n",
        "random_probs = [0 for i in range(len(y_test))]\n",
        "p_fpr, p_tpr, _ = roc_curve(y_test, random_probs, pos_label=1)"
      ],
      "execution_count": null,
      "outputs": []
    },
    {
      "cell_type": "code",
      "source": [
        "# auc scores\n",
        "auc_score1 = roc_auc_score(y_test, pred_prob1[:,1])\n",
        "auc_score2 = roc_auc_score(y_test, pred_prob2[:,1])\n",
        "auc_score3 = roc_auc_score(y_test, pred_prob3[:,1])\n",
        "\n",
        "print('Catboost:',auc_score1)\n",
        "print('RandoForest:',auc_score2)\n",
        "print('XGBoost:',auc_score3)"
      ],
      "metadata": {
        "colab": {
          "base_uri": "https://localhost:8080/"
        },
        "id": "q98akGTEzusU",
        "outputId": "2801f296-2fbe-42b5-df91-c829f4bd9fe4"
      },
      "execution_count": null,
      "outputs": [
        {
          "output_type": "stream",
          "name": "stdout",
          "text": [
            "Catboost: 0.7244065531189032\n",
            "RandoForest: 0.7184042334092552\n",
            "XGBoost: 0.7236113757457683\n"
          ]
        }
      ]
    },
    {
      "cell_type": "markdown",
      "source": [
        "Catboost has the best result"
      ],
      "metadata": {
        "id": "9ug5L4-HY_2U"
      }
    },
    {
      "cell_type": "code",
      "source": [
        "plt.figure(figsize=(10,8))\n",
        "#plt.style.use('seaborn')\n",
        "\n",
        "# plot roc curves\n",
        "plt.plot(fpr2, tpr2, linestyle='--',color='green', label='XGBoost')\n",
        "plt.plot(fpr3, tpr3, linestyle='--',color='yellow', label='Random Forest')\n",
        "plt.plot(fpr1, tpr1, linestyle='--',color='red', label='Catboost')\n",
        "\n",
        "plt.plot(p_fpr, p_tpr, linestyle='--', color='blue')\n",
        "# title\n",
        "plt.title('ROC curve')\n",
        "# x label\n",
        "plt.xlabel('False Positive Rate')\n",
        "# y label\n",
        "plt.ylabel('True Positive rate')\n",
        "\n",
        "plt.legend(loc='best')\n",
        "plt.savefig('ROC',dpi=300)\n",
        "plt.show();"
      ],
      "metadata": {
        "colab": {
          "base_uri": "https://localhost:8080/",
          "height": 513
        },
        "id": "cOoYR3E3z9EP",
        "outputId": "b92dd4da-5d23-4fce-d845-7f17f481f6dc"
      },
      "execution_count": null,
      "outputs": [
        {
          "output_type": "display_data",
          "data": {
            "image/png": "[encoded data removed]",
            "text/plain": [
              "<Figure size 720x576 with 1 Axes>"
            ]
          },
          "metadata": {
            "needs_background": "light"
          }
        }
      ]
    },
    {
      "cell_type": "markdown",
      "metadata": {
        "id": "0AxcPPMycMzv"
      },
      "source": [
        "### Feature importance"
      ]
    },
    {
      "cell_type": "code",
      "metadata": {
        "id": "4QjrYVc7cMzw"
      },
      "source": [
        "feature_imp = pd.Series(cat.feature_importances_, index = x_train.columns).sort_values(ascending = False)\n",
        "feature_df = pd.DataFrame(feature_imp)\n",
        "feature_df['features'] = feature_df.index\n",
        "feature_df.reset_index(drop = True, inplace = True)\n",
        "feature_df.rename(columns = {0: 'weight'},inplace = True)\n",
        "feature_df = feature_df[['features', 'weight']]"
      ],
      "execution_count": null,
      "outputs": []
    },
    {
      "cell_type": "code",
      "metadata": {
        "colab": {
          "base_uri": "https://localhost:8080/",
          "height": 363
        },
        "id": "Im9T-tFrcMzx",
        "scrolled": true,
        "outputId": "d7bcea00-8f99-43c4-f284-5e101524c439"
      },
      "source": [
        "feature_df.head(10)"
      ],
      "execution_count": null,
      "outputs": [
        {
          "output_type": "execute_result",
          "data": {
            "text/html": [
              "<div>\n",
              "<style scoped>\n",
              "    .dataframe tbody tr th:only-of-type {\n",
              "        vertical-align: middle;\n",
              "    }\n",
              "\n",
              "    .dataframe tbody tr th {\n",
              "        vertical-align: top;\n",
              "    }\n",
              "\n",
              "    .dataframe thead th {\n",
              "        text-align: right;\n",
              "    }\n",
              "</style>\n",
              "<table border=\"1\" class=\"dataframe\">\n",
              "  <thead>\n",
              "    <tr style=\"text-align: right;\">\n",
              "      <th></th>\n",
              "      <th>features</th>\n",
              "      <th>weight</th>\n",
              "    </tr>\n",
              "  </thead>\n",
              "  <tbody>\n",
              "    <tr>\n",
              "      <th>0</th>\n",
              "      <td>vehicleModelYear</td>\n",
              "      <td>33.521284</td>\n",
              "    </tr>\n",
              "    <tr>\n",
              "      <th>1</th>\n",
              "      <td>originalInterestRatePercentage</td>\n",
              "      <td>13.491534</td>\n",
              "    </tr>\n",
              "    <tr>\n",
              "      <th>2</th>\n",
              "      <td>ltv</td>\n",
              "      <td>8.041333</td>\n",
              "    </tr>\n",
              "    <tr>\n",
              "      <th>3</th>\n",
              "      <td>vehicleNewUsedCodeM</td>\n",
              "      <td>7.206139</td>\n",
              "    </tr>\n",
              "    <tr>\n",
              "      <th>4</th>\n",
              "      <td>vehicleValueAmount</td>\n",
              "      <td>5.090040</td>\n",
              "    </tr>\n",
              "    <tr>\n",
              "      <th>5</th>\n",
              "      <td>paymentToIncomePercentage</td>\n",
              "      <td>4.508514</td>\n",
              "    </tr>\n",
              "    <tr>\n",
              "      <th>6</th>\n",
              "      <td>obligorCreditScore</td>\n",
              "      <td>4.452202</td>\n",
              "    </tr>\n",
              "    <tr>\n",
              "      <th>7</th>\n",
              "      <td>eventYear</td>\n",
              "      <td>3.691511</td>\n",
              "    </tr>\n",
              "    <tr>\n",
              "      <th>8</th>\n",
              "      <td>originalLoanTerm</td>\n",
              "      <td>2.590341</td>\n",
              "    </tr>\n",
              "    <tr>\n",
              "      <th>9</th>\n",
              "      <td>obligorIncomeVerificationLevelCodeM_stated,verifiedbutnottolevel4orlevel5</td>\n",
              "      <td>2.021788</td>\n",
              "    </tr>\n",
              "  </tbody>\n",
              "</table>\n",
              "</div>"
            ],
            "text/plain": [
              "                                                                    features  \\\n",
              "0  vehicleModelYear                                                            \n",
              "1  originalInterestRatePercentage                                              \n",
              "2  ltv                                                                         \n",
              "3  vehicleNewUsedCodeM                                                         \n",
              "4  vehicleValueAmount                                                          \n",
              "5  paymentToIncomePercentage                                                   \n",
              "6  obligorCreditScore                                                          \n",
              "7  eventYear                                                                   \n",
              "8  originalLoanTerm                                                            \n",
              "9  obligorIncomeVerificationLevelCodeM_stated,verifiedbutnottolevel4orlevel5   \n",
              "\n",
              "      weight  \n",
              "0  33.521284  \n",
              "1  13.491534  \n",
              "2  8.041333   \n",
              "3  7.206139   \n",
              "4  5.090040   \n",
              "5  4.508514   \n",
              "6  4.452202   \n",
              "7  3.691511   \n",
              "8  2.590341   \n",
              "9  2.021788   "
            ]
          },
          "metadata": {},
          "execution_count": 17
        }
      ]
    },
    {
      "cell_type": "markdown",
      "metadata": {
        "id": "6rFxD60ecM0W"
      },
      "source": [
        "### Export"
      ]
    },
    {
      "cell_type": "code",
      "source": [
        "# model\n",
        "model_folder = '/content/drive/MyDrive/Loan_default/model/'\n",
        "m_dir = os.path.isdir(model_folder)\n",
        "if m_dir == False:\n",
        "    os.mkdir(model_folder)\n",
        "    \n",
        "model_file = 'outcome_model_ct.pkl'\n",
        "pickle.dump(cat, open(model_folder + model_file, 'wb'))"
      ],
      "metadata": {
        "id": "lX2PMVEvP501"
      },
      "execution_count": null,
      "outputs": []
    },
    {
      "cell_type": "code",
      "metadata": {
        "id": "Z8brcEPlcM0Y"
      },
      "source": [
        "# features\n",
        "json_folder = '/content/drive/MyDrive/Loan_default/features/'\n",
        "j_dir = os.path.isdir(json_folder)\n",
        "if j_dir == False:\n",
        "    os.mkdir(json_folder)\n",
        "json_file = 'ml_features.json'\n",
        "json_path = json_folder + json_file\n",
        "with open(json_path, 'w') as outfile:  \n",
        "    json.dump(features, outfile, indent = 4, separators = (',', ': '), sort_keys = False)\n",
        "    "
      ],
      "execution_count": null,
      "outputs": []
    },
    {
      "cell_type": "code",
      "metadata": {
        "colab": {
          "base_uri": "https://localhost:8080/"
        },
        "id": "WjC2Bh3ecM0a",
        "outputId": "ef2a33ce-f1a2-4bda-a81d-a0aca9da69ce"
      },
      "source": [
        "print('complete...')"
      ],
      "execution_count": null,
      "outputs": [
        {
          "output_type": "stream",
          "name": "stdout",
          "text": [
            "complete...\n"
          ]
        }
      ]
    },
    {
      "cell_type": "code",
      "source": [
        ""
      ],
      "metadata": {
        "id": "7mY03aq2tSuq"
      },
      "execution_count": null,
      "outputs": []
    }
  ]
}