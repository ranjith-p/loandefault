{
  "nbformat": 4,
  "nbformat_minor": 0,
  "metadata": {
    "kernelspec": {
      "display_name": "Python 3",
      "language": "python",
      "name": "python3"
    },
    "language_info": {
      "codemirror_mode": {
        "name": "ipython",
        "version": 3
      },
      "file_extension": ".py",
      "mimetype": "text/x-python",
      "name": "python",
      "nbconvert_exporter": "python",
      "pygments_lexer": "ipython3",
      "version": "3.8.0"
    },
    "colab": {
      "name": "3_create_splits.ipynb",
      "provenance": [],
      "collapsed_sections": []
    }
  },
  "cells": [
    {
      "cell_type": "markdown",
      "metadata": {
        "id": "6i-mQJ7GRLqC"
      },
      "source": [
        "### Load libs"
      ]
    },
    {
      "cell_type": "code",
      "metadata": {
        "id": "Va_nH3vtRLqf"
      },
      "source": [
        "import pandas as pd\n",
        "import os"
      ],
      "execution_count": null,
      "outputs": []
    },
    {
      "cell_type": "code",
      "metadata": {
        "colab": {
          "base_uri": "https://localhost:8080/"
        },
        "id": "znaKyrXTRWKo",
        "outputId": "7d6ca43b-389c-4815-e42d-512b83383ef5"
      },
      "source": [
        "from google.colab import drive\n",
        "drive.mount('/content/drive')"
      ],
      "execution_count": null,
      "outputs": [
        {
          "output_type": "stream",
          "name": "stdout",
          "text": [
            "Mounted at /content/drive\n"
          ]
        }
      ]
    },
    {
      "cell_type": "code",
      "metadata": {
        "colab": {
          "base_uri": "https://localhost:8080/"
        },
        "id": "SyAAMOSGRLqh",
        "outputId": "6a8c5717-87be-4458-efcd-4525575f095c"
      },
      "source": [
        "n = 725\n",
        "pd.set_option('display.max_colwidth', -1)\n",
        "pd.set_option('display.max_rows', n)\n",
        "pd.set_option('display.max_columns', n)"
      ],
      "execution_count": null,
      "outputs": [
        {
          "output_type": "stream",
          "name": "stderr",
          "text": [
            "/usr/local/lib/python3.7/dist-packages/ipykernel_launcher.py:2: FutureWarning: Passing a negative integer is deprecated in version 1.0 and will not be supported in future version. Instead, use None to not limit the column width.\n",
            "  \n"
          ]
        }
      ]
    },
    {
      "cell_type": "markdown",
      "metadata": {
        "id": "v0aqXnaHRLqj"
      },
      "source": [
        "### Load data"
      ]
    },
    {
      "cell_type": "code",
      "metadata": {
        "id": "U4HUo-a0RLqk"
      },
      "source": [
        "folder = '/content/drive/MyDrive/Loan_default/prepared/'\n",
        "file = 'train_model_ready.csv'\n",
        "path = folder + file"
      ],
      "execution_count": null,
      "outputs": []
    },
    {
      "cell_type": "code",
      "metadata": {
        "id": "4tWMi44TRLql"
      },
      "source": [
        "data = pd.read_csv(path)"
      ],
      "execution_count": null,
      "outputs": []
    },
    {
      "cell_type": "code",
      "metadata": {
        "colab": {
          "base_uri": "https://localhost:8080/"
        },
        "id": "MAbPezAMRLqm",
        "outputId": "affb2866-80ba-48c0-bd19-684c8fba060a"
      },
      "source": [
        "data.shape"
      ],
      "execution_count": null,
      "outputs": [
        {
          "output_type": "execute_result",
          "data": {
            "text/plain": [
              "(152222, 21)"
            ]
          },
          "metadata": {},
          "execution_count": 7
        }
      ]
    },
    {
      "cell_type": "markdown",
      "metadata": {
        "id": "hmuHP-seRLqn"
      },
      "source": [
        "### Get event year"
      ]
    },
    {
      "cell_type": "code",
      "metadata": {
        "id": "szir_sJZRLqr"
      },
      "source": [
        "def get_year(row):\n",
        "    \n",
        "    \"\"\"\n",
        "    Get co year\n",
        "    \"\"\"\n",
        "    \n",
        "    init = str(row['reportingPeriodBeginningDateREvent'])\n",
        "    year = init[0:4]\n",
        "    \n",
        "    return year\n",
        "    "
      ],
      "execution_count": null,
      "outputs": []
    },
    {
      "cell_type": "code",
      "metadata": {
        "id": "DZYCuzaSRLqt"
      },
      "source": [
        "data['eventYear'] = data.apply(get_year, axis = 1)"
      ],
      "execution_count": null,
      "outputs": []
    },
    {
      "cell_type": "code",
      "metadata": {
        "colab": {
          "base_uri": "https://localhost:8080/"
        },
        "id": "yvhKiqf7RLqu",
        "outputId": "5e1557c6-ef69-48f4-bed9-f419daa3b335"
      },
      "source": [
        "data['eventYear'].value_counts()"
      ],
      "execution_count": null,
      "outputs": [
        {
          "output_type": "execute_result",
          "data": {
            "text/plain": [
              "2020    77670\n",
              "2019    38978\n",
              "2021    30904\n",
              "2018    4670 \n",
              "Name: eventYear, dtype: int64"
            ]
          },
          "metadata": {},
          "execution_count": 10
        }
      ]
    },
    {
      "cell_type": "code",
      "source": [
        "data.head()"
      ],
      "metadata": {
        "colab": {
          "base_uri": "https://localhost:8080/",
          "height": 226
        },
        "id": "q7I5PZh29NgD",
        "outputId": "fc060e5a-07ba-4a5d-fc2e-383b36a2087a"
      },
      "execution_count": null,
      "outputs": [
        {
          "output_type": "execute_result",
          "data": {
            "text/html": [
              "<div>\n",
              "<style scoped>\n",
              "    .dataframe tbody tr th:only-of-type {\n",
              "        vertical-align: middle;\n",
              "    }\n",
              "\n",
              "    .dataframe tbody tr th {\n",
              "        vertical-align: top;\n",
              "    }\n",
              "\n",
              "    .dataframe thead th {\n",
              "        text-align: right;\n",
              "    }\n",
              "</style>\n",
              "<table border=\"1\" class=\"dataframe\">\n",
              "  <thead>\n",
              "    <tr style=\"text-align: right;\">\n",
              "      <th></th>\n",
              "      <th>originalLoanAmount</th>\n",
              "      <th>originalLoanTerm</th>\n",
              "      <th>paymentToIncomePercentage</th>\n",
              "      <th>originalInterestRatePercentage</th>\n",
              "      <th>vehicleManufacturerName</th>\n",
              "      <th>vehicleNewUsedCodeM</th>\n",
              "      <th>vehicleModelYear</th>\n",
              "      <th>vehicleValueAmount</th>\n",
              "      <th>vehicleValueSourceCodeM</th>\n",
              "      <th>coObligorIndicator</th>\n",
              "      <th>obligorCreditScore</th>\n",
              "      <th>obligorGeographicLocation</th>\n",
              "      <th>underwritingIndicator</th>\n",
              "      <th>obligorCreditScoreType</th>\n",
              "      <th>obligorEmploymentVerificationCodeM</th>\n",
              "      <th>vehicleTypeCodeM</th>\n",
              "      <th>obligorIncomeVerificationLevelCodeM</th>\n",
              "      <th>reportingPeriodBeginningDateREvent</th>\n",
              "      <th>reportingPeriodEndingDateREvent</th>\n",
              "      <th>ltv</th>\n",
              "      <th>binaryTargetNumeric</th>\n",
              "      <th>eventYear</th>\n",
              "    </tr>\n",
              "  </thead>\n",
              "  <tbody>\n",
              "    <tr>\n",
              "      <th>0</th>\n",
              "      <td>27996.23</td>\n",
              "      <td>74.0</td>\n",
              "      <td>0.0465</td>\n",
              "      <td>0.0740</td>\n",
              "      <td>chevrolet</td>\n",
              "      <td>1</td>\n",
              "      <td>2018.0</td>\n",
              "      <td>27302.28</td>\n",
              "      <td>invoiceprice</td>\n",
              "      <td>0</td>\n",
              "      <td>637.0</td>\n",
              "      <td>ms</td>\n",
              "      <td>1</td>\n",
              "      <td>1</td>\n",
              "      <td>1</td>\n",
              "      <td>suv</td>\n",
              "      <td>stated,notverified</td>\n",
              "      <td>2021-04-01</td>\n",
              "      <td>2021-04-30</td>\n",
              "      <td>1.025417</td>\n",
              "      <td>1</td>\n",
              "      <td>2021</td>\n",
              "    </tr>\n",
              "    <tr>\n",
              "      <th>1</th>\n",
              "      <td>24495.00</td>\n",
              "      <td>74.0</td>\n",
              "      <td>0.1595</td>\n",
              "      <td>0.1799</td>\n",
              "      <td>ford</td>\n",
              "      <td>0</td>\n",
              "      <td>2013.0</td>\n",
              "      <td>19625.00</td>\n",
              "      <td>other</td>\n",
              "      <td>0</td>\n",
              "      <td>620.0</td>\n",
              "      <td>oh</td>\n",
              "      <td>1</td>\n",
              "      <td>1</td>\n",
              "      <td>1</td>\n",
              "      <td>truck</td>\n",
              "      <td>stated,verifiedbutnottolevel4orlevel5</td>\n",
              "      <td>2021-04-01</td>\n",
              "      <td>2021-04-30</td>\n",
              "      <td>1.248153</td>\n",
              "      <td>0</td>\n",
              "      <td>2021</td>\n",
              "    </tr>\n",
              "    <tr>\n",
              "      <th>2</th>\n",
              "      <td>22000.00</td>\n",
              "      <td>73.0</td>\n",
              "      <td>0.0950</td>\n",
              "      <td>0.1450</td>\n",
              "      <td>chevrolet</td>\n",
              "      <td>1</td>\n",
              "      <td>2018.0</td>\n",
              "      <td>25686.22</td>\n",
              "      <td>invoiceprice</td>\n",
              "      <td>1</td>\n",
              "      <td>620.0</td>\n",
              "      <td>tn</td>\n",
              "      <td>1</td>\n",
              "      <td>1</td>\n",
              "      <td>0</td>\n",
              "      <td>suv</td>\n",
              "      <td>stated,verifiedbutnottolevel4orlevel5</td>\n",
              "      <td>2020-04-01</td>\n",
              "      <td>2020-04-30</td>\n",
              "      <td>0.856490</td>\n",
              "      <td>1</td>\n",
              "      <td>2020</td>\n",
              "    </tr>\n",
              "    <tr>\n",
              "      <th>3</th>\n",
              "      <td>17967.06</td>\n",
              "      <td>74.0</td>\n",
              "      <td>0.0060</td>\n",
              "      <td>0.1285</td>\n",
              "      <td>ford</td>\n",
              "      <td>0</td>\n",
              "      <td>2017.0</td>\n",
              "      <td>18950.00</td>\n",
              "      <td>other</td>\n",
              "      <td>0</td>\n",
              "      <td>636.0</td>\n",
              "      <td>md</td>\n",
              "      <td>1</td>\n",
              "      <td>1</td>\n",
              "      <td>1</td>\n",
              "      <td>suv</td>\n",
              "      <td>stated,notverified</td>\n",
              "      <td>2021-04-01</td>\n",
              "      <td>2021-04-30</td>\n",
              "      <td>0.948130</td>\n",
              "      <td>0</td>\n",
              "      <td>2021</td>\n",
              "    </tr>\n",
              "    <tr>\n",
              "      <th>4</th>\n",
              "      <td>34817.72</td>\n",
              "      <td>74.0</td>\n",
              "      <td>0.1294</td>\n",
              "      <td>0.0995</td>\n",
              "      <td>chevrolet</td>\n",
              "      <td>1</td>\n",
              "      <td>2018.0</td>\n",
              "      <td>43079.85</td>\n",
              "      <td>invoiceprice</td>\n",
              "      <td>0</td>\n",
              "      <td>628.0</td>\n",
              "      <td>tx</td>\n",
              "      <td>1</td>\n",
              "      <td>1</td>\n",
              "      <td>1</td>\n",
              "      <td>truck</td>\n",
              "      <td>stated,notverified</td>\n",
              "      <td>2021-04-01</td>\n",
              "      <td>2021-04-30</td>\n",
              "      <td>0.808214</td>\n",
              "      <td>0</td>\n",
              "      <td>2021</td>\n",
              "    </tr>\n",
              "  </tbody>\n",
              "</table>\n",
              "</div>"
            ],
            "text/plain": [
              "   originalLoanAmount  originalLoanTerm  paymentToIncomePercentage  \\\n",
              "0  27996.23            74.0              0.0465                      \n",
              "1  24495.00            74.0              0.1595                      \n",
              "2  22000.00            73.0              0.0950                      \n",
              "3  17967.06            74.0              0.0060                      \n",
              "4  34817.72            74.0              0.1294                      \n",
              "\n",
              "   originalInterestRatePercentage vehicleManufacturerName  \\\n",
              "0  0.0740                          chevrolet                \n",
              "1  0.1799                          ford                     \n",
              "2  0.1450                          chevrolet                \n",
              "3  0.1285                          ford                     \n",
              "4  0.0995                          chevrolet                \n",
              "\n",
              "   vehicleNewUsedCodeM  vehicleModelYear  vehicleValueAmount  \\\n",
              "0  1                    2018.0            27302.28             \n",
              "1  0                    2013.0            19625.00             \n",
              "2  1                    2018.0            25686.22             \n",
              "3  0                    2017.0            18950.00             \n",
              "4  1                    2018.0            43079.85             \n",
              "\n",
              "  vehicleValueSourceCodeM  coObligorIndicator  obligorCreditScore  \\\n",
              "0  invoiceprice            0                   637.0                \n",
              "1  other                   0                   620.0                \n",
              "2  invoiceprice            1                   620.0                \n",
              "3  other                   0                   636.0                \n",
              "4  invoiceprice            0                   628.0                \n",
              "\n",
              "  obligorGeographicLocation  underwritingIndicator  obligorCreditScoreType  \\\n",
              "0  ms                        1                      1                        \n",
              "1  oh                        1                      1                        \n",
              "2  tn                        1                      1                        \n",
              "3  md                        1                      1                        \n",
              "4  tx                        1                      1                        \n",
              "\n",
              "   obligorEmploymentVerificationCodeM vehicleTypeCodeM  \\\n",
              "0  1                                   suv               \n",
              "1  1                                   truck             \n",
              "2  0                                   suv               \n",
              "3  1                                   suv               \n",
              "4  1                                   truck             \n",
              "\n",
              "     obligorIncomeVerificationLevelCodeM reportingPeriodBeginningDateREvent  \\\n",
              "0  stated,notverified                     2021-04-01                          \n",
              "1  stated,verifiedbutnottolevel4orlevel5  2021-04-01                          \n",
              "2  stated,verifiedbutnottolevel4orlevel5  2020-04-01                          \n",
              "3  stated,notverified                     2021-04-01                          \n",
              "4  stated,notverified                     2021-04-01                          \n",
              "\n",
              "  reportingPeriodEndingDateREvent       ltv  binaryTargetNumeric eventYear  \n",
              "0  2021-04-30                      1.025417  1                    2021      \n",
              "1  2021-04-30                      1.248153  0                    2021      \n",
              "2  2020-04-30                      0.856490  1                    2020      \n",
              "3  2021-04-30                      0.948130  0                    2021      \n",
              "4  2021-04-30                      0.808214  0                    2021      "
            ]
          },
          "metadata": {},
          "execution_count": 11
        }
      ]
    },
    {
      "cell_type": "code",
      "source": [
        "encode_features = ['vehicleManufacturerName',\n",
        "                 'vehicleValueSourceCodeM',\n",
        "                 'obligorGeographicLocation',\n",
        "                 'vehicleTypeCodeM',\n",
        "                 'obligorIncomeVerificationLevelCodeM']"
      ],
      "metadata": {
        "id": "skq_jruqc5o-"
      },
      "execution_count": null,
      "outputs": []
    },
    {
      "cell_type": "code",
      "source": [
        "data=pd.get_dummies(data,columns=encode_features,drop_first=True)"
      ],
      "metadata": {
        "id": "GzmsMd0P9w8D"
      },
      "execution_count": null,
      "outputs": []
    },
    {
      "cell_type": "code",
      "metadata": {
        "id": "8yc2-oYsRLqu"
      },
      "source": [
        "tr = data[data['reportingPeriodBeginningDateREvent'] < '2020-7'].reset_index(drop = True)\n",
        "v = data[(data['reportingPeriodBeginningDateREvent'] >= '2020-7') & (data['reportingPeriodBeginningDateREvent'] < '2021-03')].reset_index(drop = True)               \n",
        "te = data[data['reportingPeriodBeginningDateREvent'] >= '2021-03'].reset_index(drop = True)\n"
      ],
      "execution_count": null,
      "outputs": []
    },
    {
      "cell_type": "code",
      "source": [
        "tr.drop(columns=['reportingPeriodBeginningDateREvent','reportingPeriodEndingDateREvent'],inplace=True)\n",
        "v.drop(columns=['reportingPeriodBeginningDateREvent','reportingPeriodEndingDateREvent'],inplace=True)\n",
        "te.drop(columns=['reportingPeriodBeginningDateREvent','reportingPeriodEndingDateREvent'],inplace=True)"
      ],
      "metadata": {
        "id": "WS0SSURu9CgI"
      },
      "execution_count": null,
      "outputs": []
    },
    {
      "cell_type": "code",
      "metadata": {
        "colab": {
          "base_uri": "https://localhost:8080/"
        },
        "id": "XkWgFZQHRLqv",
        "outputId": "cf3dbb29-3aa3-4bb3-8250-03513e619a61"
      },
      "source": [
        "print(tr.shape)\n",
        "print(v.shape)\n",
        "print(te.shape)"
      ],
      "execution_count": null,
      "outputs": [
        {
          "output_type": "stream",
          "name": "stdout",
          "text": [
            "(121318, 119)\n",
            "(14809, 119)\n",
            "(16095, 119)\n"
          ]
        }
      ]
    },
    {
      "cell_type": "code",
      "metadata": {
        "colab": {
          "base_uri": "https://localhost:8080/"
        },
        "id": "ueBDRfdPRLqw",
        "outputId": "0431a34c-7517-499e-ddab-e06c6faaf7eb"
      },
      "source": [
        "(len(tr) + len(v) + len(te)) == len(data)"
      ],
      "execution_count": null,
      "outputs": [
        {
          "output_type": "execute_result",
          "data": {
            "text/plain": [
              "True"
            ]
          },
          "metadata": {},
          "execution_count": 31
        }
      ]
    },
    {
      "cell_type": "markdown",
      "metadata": {
        "id": "224knou0RLqx"
      },
      "source": [
        "### Export"
      ]
    },
    {
      "cell_type": "code",
      "metadata": {
        "id": "Fmtn-8PJRLqx"
      },
      "source": [
        "e_folder = '/content/drive/MyDrive/Loan_default/splits/'\n",
        "dir_bool = os.path.isdir(e_folder)\n",
        "if dir_bool == False:\n",
        "    os.mkdir(e_folder)"
      ],
      "execution_count": null,
      "outputs": []
    },
    {
      "cell_type": "code",
      "metadata": {
        "id": "U5QOHlavRLqy"
      },
      "source": [
        "tr.to_csv(e_folder + 'train_outcome.csv', index = False)\n",
        "v.to_csv(e_folder + 'validation_outcome.csv', index = False)\n",
        "te.to_csv(e_folder + 'test_outcome.csv', index = False)"
      ],
      "execution_count": null,
      "outputs": []
    },
    {
      "cell_type": "code",
      "metadata": {
        "colab": {
          "base_uri": "https://localhost:8080/"
        },
        "id": "B1J2WQP6RLqz",
        "outputId": "8bd01fe9-d70d-419d-f29e-04e6689ca065"
      },
      "source": [
        "print('complete...')"
      ],
      "execution_count": null,
      "outputs": [
        {
          "output_type": "stream",
          "name": "stdout",
          "text": [
            "complete...\n"
          ]
        }
      ]
    },
    {
      "cell_type": "code",
      "metadata": {
        "id": "TR8C62jYRLqz"
      },
      "source": [
        ""
      ],
      "execution_count": null,
      "outputs": []
    },
    {
      "cell_type": "markdown",
      "metadata": {
        "id": "EH0_K7LcRLq0"
      },
      "source": [
        "### End"
      ]
    }
  ]
}